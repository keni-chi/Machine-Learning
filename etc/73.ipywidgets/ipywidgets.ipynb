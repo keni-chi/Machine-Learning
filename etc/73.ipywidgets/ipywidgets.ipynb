{
 "cells": [
  {
   "cell_type": "code",
   "execution_count": 1,
   "metadata": {},
   "outputs": [],
   "source": [
    "import numpy as np\n",
    "import pandas as pd\n",
    "from sklearn.datasets import load_iris\n",
    "from ipywidgets import interact, Select\n",
    "import matplotlib.pyplot as plt\n",
    "%matplotlib inline"
   ]
  },
  {
   "cell_type": "code",
   "execution_count": 2,
   "metadata": {},
   "outputs": [],
   "source": [
    "def show_plot(col1, col2):\n",
    "    plt.figure(figsize=(4.5,4.5))\n",
    "    plt.scatter(data[col1], data[col2], c=iris.target)\n",
    "    plt.xlabel('')\n",
    "    plt.ylabel('')\n",
    "    plt.show()"
   ]
  },
  {
   "cell_type": "code",
   "execution_count": 3,
   "metadata": {},
   "outputs": [
    {
     "data": {
      "application/vnd.jupyter.widget-view+json": {
       "model_id": "09213c39fdf540f48e2e265c689ec477",
       "version_major": 2,
       "version_minor": 0
      },
      "text/plain": [
       "interactive(children=(Select(description='X軸:', options=('sepal length (cm)', 'sepal width (cm)', 'petal lengt…"
      ]
     },
     "metadata": {},
     "output_type": "display_data"
    },
    {
     "data": {
      "text/plain": [
       "<function __main__.show_plot(col1, col2)>"
      ]
     },
     "execution_count": 3,
     "metadata": {},
     "output_type": "execute_result"
    }
   ],
   "source": [
    "# selectbox\n",
    "iris = load_iris()\n",
    "data = pd.DataFrame(iris.data, columns=iris.feature_names)\n",
    "\n",
    "w1 = Select(description='X軸:', options=data.columns, rows=1,)\n",
    "w2 = Select(description='Y軸:', options=['petal width (cm)'], rows=1,)\n",
    "interact(show_plot, col1=w1, col2=w2)"
   ]
  },
  {
   "cell_type": "code",
   "execution_count": 4,
   "metadata": {},
   "outputs": [
    {
     "data": {
      "application/vnd.jupyter.widget-view+json": {
       "model_id": "4e8753942a3241f6bae3592d8bd14c93",
       "version_major": 2,
       "version_minor": 0
      },
      "text/plain": [
       "interactive(children=(Text(value='A01', description='mode1'), Text(value='B01', description='mode2'), Checkbox…"
      ]
     },
     "metadata": {},
     "output_type": "display_data"
    }
   ],
   "source": [
    "import matplotlib.pyplot as plt\n",
    "from ipywidgets import interact\n",
    "import numpy as np\n",
    "import app\n",
    "\n",
    "x = np.linspace(0, 2*np.pi, num=5000)\n",
    "y1, y2 = [], []\n",
    "param = 50\n",
    "\n",
    "for i in range(1,param+1):\n",
    "    y1.append([np.sin(i*j) for j in x])\n",
    "    y2.append([np.cos(i*j)+np.cos(j) for j in x])\n",
    "\n",
    "@interact(mode1='A01', mode2='B01', save=True)\n",
    "def f(mode1, mode2, save):\n",
    "    if mode1=='A01':\n",
    "        plt.plot(x, y1[0])   \n",
    "    elif mode2=='B01':        \n",
    "        plt.plot(x, y2[1])\n",
    "    else:\n",
    "        print('saveをprint')\n",
    "        print(save)\n",
    "        print('app.mainを実行')\n",
    "        app.main(mode1, mode2)\n",
    "\n",
    "    plt.show()"
   ]
  },
  {
   "cell_type": "code",
   "execution_count": null,
   "metadata": {},
   "outputs": [],
   "source": []
  },
  {
   "cell_type": "code",
   "execution_count": null,
   "metadata": {},
   "outputs": [],
   "source": []
  },
  {
   "cell_type": "code",
   "execution_count": null,
   "metadata": {},
   "outputs": [],
   "source": []
  },
  {
   "cell_type": "code",
   "execution_count": null,
   "metadata": {},
   "outputs": [],
   "source": []
  },
  {
   "cell_type": "code",
   "execution_count": null,
   "metadata": {},
   "outputs": [],
   "source": []
  }
 ],
 "metadata": {
  "kernelspec": {
   "display_name": "Python 3",
   "language": "python",
   "name": "python3"
  },
  "language_info": {
   "codemirror_mode": {
    "name": "ipython",
    "version": 3
   },
   "file_extension": ".py",
   "mimetype": "text/x-python",
   "name": "python",
   "nbconvert_exporter": "python",
   "pygments_lexer": "ipython3",
   "version": "3.7.6"
  }
 },
 "nbformat": 4,
 "nbformat_minor": 4
}
