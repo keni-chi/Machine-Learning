{
 "cells": [
  {
   "cell_type": "code",
   "execution_count": null,
   "metadata": {},
   "outputs": [],
   "source": [
    "import pandas as pd\n",
    "import random"
   ]
  },
  {
   "cell_type": "code",
   "execution_count": null,
   "metadata": {},
   "outputs": [],
   "source": [
    "# 設定\n",
    "col = 5\n",
    "row = 20"
   ]
  },
  {
   "cell_type": "code",
   "execution_count": null,
   "metadata": {},
   "outputs": [],
   "source": [
    "def create_data(col, row):\n",
    "    # 初期化\n",
    "    df = pd.DataFrame()\n",
    "    random.seed(0)\n",
    "\n",
    "    # 列名を生成(int)\n",
    "    col_int_list = ['col_int' + str(i+1) for i in range(col)]\n",
    "\n",
    "    # 列名を生成(float)\n",
    "    col_float_list = ['col_float' + str(i+1) for i in range(col)]\n",
    "\n",
    "    # 列データ生成(int)\n",
    "    for col_int_name in col_int_list:\n",
    "        df[col_int_name] = [random.random() for i in range(row)]\n",
    "\n",
    "    # 列データ生成(float)\n",
    "    for col_float_name in col_float_list:\n",
    "        df[col_float_name] = [random.randint(0, 10) for i in range(row)]  # 0から10の範囲の整数\n",
    "\n",
    "    return df"
   ]
  },
  {
   "cell_type": "code",
   "execution_count": null,
   "metadata": {},
   "outputs": [],
   "source": [
    "df = create_data(col, row)\n",
    "df"
   ]
  },
  {
   "cell_type": "code",
   "execution_count": null,
   "metadata": {},
   "outputs": [],
   "source": []
  },
  {
   "cell_type": "code",
   "execution_count": null,
   "metadata": {},
   "outputs": [],
   "source": []
  }
 ],
 "metadata": {
  "kernelspec": {
   "display_name": "Python 3",
   "language": "python",
   "name": "python3"
  },
  "language_info": {
   "codemirror_mode": {
    "name": "ipython",
    "version": 3
   },
   "file_extension": ".py",
   "mimetype": "text/x-python",
   "name": "python",
   "nbconvert_exporter": "python",
   "pygments_lexer": "ipython3",
   "version": "3.7.6"
  }
 },
 "nbformat": 4,
 "nbformat_minor": 4
}
