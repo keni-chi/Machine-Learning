{
 "cells": [
  {
   "cell_type": "code",
   "execution_count": 1,
   "metadata": {},
   "outputs": [],
   "source": [
    "# 参考: https://qiita.com/shopetan/items/30f6e0932485c976a946"
   ]
  },
  {
   "cell_type": "code",
   "execution_count": 2,
   "metadata": {},
   "outputs": [],
   "source": [
    "import numpy as np\n",
    "import scipy as sc\n",
    "from scipy import linalg\n",
    "from scipy import spatial\n",
    "import scipy.spatial.distance\n",
    "import pandas as pd\n",
    "import matplotlib.pyplot as plt\n",
    "import matplotlib.font_manager\n",
    "import pylab"
   ]
  },
  {
   "cell_type": "code",
   "execution_count": 3,
   "metadata": {},
   "outputs": [
    {
     "data": {
      "text/html": [
       "<div>\n",
       "<style scoped>\n",
       "    .dataframe tbody tr th:only-of-type {\n",
       "        vertical-align: middle;\n",
       "    }\n",
       "\n",
       "    .dataframe tbody tr th {\n",
       "        vertical-align: top;\n",
       "    }\n",
       "\n",
       "    .dataframe thead th {\n",
       "        text-align: right;\n",
       "    }\n",
       "</style>\n",
       "<table border=\"1\" class=\"dataframe\">\n",
       "  <thead>\n",
       "    <tr style=\"text-align: right;\">\n",
       "      <th></th>\n",
       "      <th>a</th>\n",
       "      <th>b</th>\n",
       "      <th>c</th>\n",
       "      <th>d</th>\n",
       "      <th>e</th>\n",
       "      <th>f</th>\n",
       "    </tr>\n",
       "  </thead>\n",
       "  <tbody>\n",
       "    <tr>\n",
       "      <th>1</th>\n",
       "      <td>0</td>\n",
       "      <td>1</td>\n",
       "      <td>2</td>\n",
       "      <td>3</td>\n",
       "      <td>4</td>\n",
       "      <td>5</td>\n",
       "    </tr>\n",
       "    <tr>\n",
       "      <th>2</th>\n",
       "      <td>6</td>\n",
       "      <td>1</td>\n",
       "      <td>12</td>\n",
       "      <td>3</td>\n",
       "      <td>6</td>\n",
       "      <td>7</td>\n",
       "    </tr>\n",
       "    <tr>\n",
       "      <th>3</th>\n",
       "      <td>7</td>\n",
       "      <td>11</td>\n",
       "      <td>32</td>\n",
       "      <td>7</td>\n",
       "      <td>6</td>\n",
       "      <td>9</td>\n",
       "    </tr>\n",
       "    <tr>\n",
       "      <th>4</th>\n",
       "      <td>2</td>\n",
       "      <td>6</td>\n",
       "      <td>5</td>\n",
       "      <td>3</td>\n",
       "      <td>3</td>\n",
       "      <td>5</td>\n",
       "    </tr>\n",
       "    <tr>\n",
       "      <th>5</th>\n",
       "      <td>3</td>\n",
       "      <td>0</td>\n",
       "      <td>0</td>\n",
       "      <td>2</td>\n",
       "      <td>5</td>\n",
       "      <td>0</td>\n",
       "    </tr>\n",
       "    <tr>\n",
       "      <th>6</th>\n",
       "      <td>3</td>\n",
       "      <td>2</td>\n",
       "      <td>1</td>\n",
       "      <td>2</td>\n",
       "      <td>1</td>\n",
       "      <td>2</td>\n",
       "    </tr>\n",
       "    <tr>\n",
       "      <th>7</th>\n",
       "      <td>1</td>\n",
       "      <td>1</td>\n",
       "      <td>3</td>\n",
       "      <td>2</td>\n",
       "      <td>1</td>\n",
       "      <td>2</td>\n",
       "    </tr>\n",
       "    <tr>\n",
       "      <th>8</th>\n",
       "      <td>0</td>\n",
       "      <td>4</td>\n",
       "      <td>4</td>\n",
       "      <td>1</td>\n",
       "      <td>1</td>\n",
       "      <td>1</td>\n",
       "    </tr>\n",
       "    <tr>\n",
       "      <th>9</th>\n",
       "      <td>0</td>\n",
       "      <td>1</td>\n",
       "      <td>1</td>\n",
       "      <td>2</td>\n",
       "      <td>1</td>\n",
       "      <td>1</td>\n",
       "    </tr>\n",
       "    <tr>\n",
       "      <th>10</th>\n",
       "      <td>1</td>\n",
       "      <td>2</td>\n",
       "      <td>1</td>\n",
       "      <td>5</td>\n",
       "      <td>3</td>\n",
       "      <td>2</td>\n",
       "    </tr>\n",
       "  </tbody>\n",
       "</table>\n",
       "</div>"
      ],
      "text/plain": [
       "    a   b   c  d  e  f\n",
       "1   0   1   2  3  4  5\n",
       "2   6   1  12  3  6  7\n",
       "3   7  11  32  7  6  9\n",
       "4   2   6   5  3  3  5\n",
       "5   3   0   0  2  5  0\n",
       "6   3   2   1  2  1  2\n",
       "7   1   1   3  2  1  2\n",
       "8   0   4   4  1  1  1\n",
       "9   0   1   1  2  1  1\n",
       "10  1   2   1  5  3  2"
      ]
     },
     "execution_count": 3,
     "metadata": {},
     "output_type": "execute_result"
    }
   ],
   "source": [
    "# df = pd.read_csv('input.csv')\n",
    "df = pd.read_csv('input.csv', index_col=0)\n",
    "df"
   ]
  },
  {
   "cell_type": "code",
   "execution_count": 4,
   "metadata": {},
   "outputs": [],
   "source": [
    "ROW = 10\n",
    "COLUMN = 6\n",
    "\n",
    "row = []\n",
    "column = []\n",
    "ave = [0.0 for i in range(COLUMN)]\n",
    "vcm = np.zeros((ROW, COLUMN, COLUMN))\n",
    "diff = np.zeros((1, COLUMN))\n",
    "mahal = np.zeros(ROW)\n",
    "tmp = np.zeros(COLUMN)\n"
   ]
  },
  {
   "cell_type": "code",
   "execution_count": 5,
   "metadata": {},
   "outputs": [
    {
     "name": "stdout",
     "output_type": "stream",
     "text": [
      "[[0, 6, 7, 2, 3, 3, 1, 0, 0, 1], [1, 1, 11, 6, 0, 2, 1, 4, 1, 2], [2, 12, 32, 5, 0, 1, 3, 4, 1, 1], [3, 3, 7, 3, 2, 2, 2, 1, 2, 5], [4, 6, 6, 3, 5, 1, 1, 1, 1, 3], [5, 7, 9, 5, 0, 2, 2, 1, 1, 2]]\n",
      "------\n",
      "[[0, 1, 2, 3, 4, 5], [6, 1, 12, 3, 6, 7], [7, 11, 32, 7, 6, 9], [2, 6, 5, 3, 3, 5], [3, 0, 0, 2, 5, 0], [3, 2, 1, 2, 1, 2], [1, 1, 3, 2, 1, 2], [0, 4, 4, 1, 1, 1], [0, 1, 1, 2, 1, 1], [1, 2, 1, 5, 3, 2]]\n"
     ]
    }
   ],
   "source": [
    "# 各特徴量毎\n",
    "for i in range(COLUMN):\n",
    "    column.append(list(df.iloc[:, i]))\n",
    "print(column)\n",
    "\n",
    "print('------')\n",
    "\n",
    "# 各レコード毎\n",
    "for i in range(0, ROW):\n",
    "#     print(i)\n",
    "#     print(row)\n",
    "    row.append(list(df.iloc[i, :]))\n",
    "print(row)\n"
   ]
  },
  {
   "cell_type": "code",
   "execution_count": 6,
   "metadata": {},
   "outputs": [],
   "source": [
    "# 各特徴量毎の平均値の計算\n",
    "for i in range(COLUMN):\n",
    "    # スライスという技法\n",
    "    ave[i] = np.average(column[i][0:len(column[i])])\n"
   ]
  },
  {
   "cell_type": "code",
   "execution_count": 7,
   "metadata": {},
   "outputs": [],
   "source": [
    "# 分散共分散行列の計算\n",
    "# Numpyのメソッドを使うので，array()でリストを変換した．\n",
    "row = np.array([row])\n",
    "ave = np.array(ave)\n",
    "\n",
    "# 分散共分散行列を求める\n",
    "# np.swapaxes()で軸を変換することができる．\n",
    "for i in range(ROW):\n",
    "    diff = (row[0][i] - ave)\n",
    "    diff = np.array([diff])\n",
    "    vcm[i] = (diff * np.swapaxes(diff, 0, 1)) / ROW\n"
   ]
  },
  {
   "cell_type": "code",
   "execution_count": 8,
   "metadata": {},
   "outputs": [],
   "source": [
    "# mahalnobis distanceを求める\n",
    "for i in range(ROW):\n",
    "    # 一般逆行列を生成し，計算の都合上転値をかける\n",
    "    vcm[i] = sc.linalg.pinv(vcm[i])\n",
    "    vcm[i] = vcm[i].transpose()\n",
    "    vcm[i] = np.identity(COLUMN)\n",
    "    # 差分ベクトルの生成\n",
    "    diff = (row[0][i] - ave)\n",
    "    for j in range(COLUMN):\n",
    "        tmp[j] = np.dot(diff, vcm[i][j])\n",
    "    mahal[i] = np.dot(tmp, diff)"
   ]
  },
  {
   "cell_type": "code",
   "execution_count": 9,
   "metadata": {},
   "outputs": [
    {
     "data": {
      "text/plain": [
       "array([ 29.08,  73.48, 814.28,  13.48,  62.28,  34.68,  22.28,  25.08,\n",
       "        46.08,  34.48])"
      ]
     },
     "execution_count": 9,
     "metadata": {},
     "output_type": "execute_result"
    }
   ],
   "source": [
    "mahal"
   ]
  },
  {
   "cell_type": "code",
   "execution_count": 10,
   "metadata": {},
   "outputs": [
    {
     "name": "stdout",
     "output_type": "stream",
     "text": [
      "マハラノビス距離\n",
      "[ 5.39258751  8.5720476  28.53559181  3.67151195  7.89176786  5.88897275\n",
      "  4.72016949  5.00799361  6.7882251   5.8719673 ]\n"
     ]
    },
    {
     "data": {
      "text/plain": [
       "Text(0, 0.5, 'y')"
      ]
     },
     "execution_count": 10,
     "metadata": {},
     "output_type": "execute_result"
    },
    {
     "data": {
      "image/png": "[encoded data removed]",
      "text/plain": [
       "<Figure size 432x288 with 1 Axes>"
      ]
     },
     "metadata": {
      "needs_background": "light"
     },
     "output_type": "display_data"
    }
   ],
   "source": [
    "plot = pylab.arange(0.0, COLUMN, 1.0)\n",
    "mahal = np.sqrt(mahal)\n",
    "\n",
    "print(\"マハラノビス距離\")\n",
    "print(mahal)\n",
    "plt.bar(range(ROW),mahal)\n",
    "plt.title(\"\")\n",
    "plt.xlabel(\"x\")\n",
    "plt.ylabel(\"y\")\n"
   ]
  },
  {
   "cell_type": "code",
   "execution_count": null,
   "metadata": {},
   "outputs": [],
   "source": []
  }
 ],
 "metadata": {
  "kernelspec": {
   "display_name": ".venv",
   "language": "python",
   "name": ".venv"
  },
  "language_info": {
   "codemirror_mode": {
    "name": "ipython",
    "version": 3
   },
   "file_extension": ".py",
   "mimetype": "text/x-python",
   "name": "python",
   "nbconvert_exporter": "python",
   "pygments_lexer": "ipython3",
   "version": "3.7.6"
  }
 },
 "nbformat": 4,
 "nbformat_minor": 4
}
