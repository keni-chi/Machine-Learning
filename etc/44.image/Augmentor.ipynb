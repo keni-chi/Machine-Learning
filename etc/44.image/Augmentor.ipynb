{
 "cells": [
  {
   "cell_type": "code",
   "execution_count": 1,
   "metadata": {},
   "outputs": [],
   "source": [
    "import Augmentor\n",
    "from PIL import Image\n",
    "import shutil\n",
    "import os"
   ]
  },
  {
   "cell_type": "code",
   "execution_count": 2,
   "metadata": {},
   "outputs": [
    {
     "name": "stdout",
     "output_type": "stream",
     "text": [
      "Initialised with 1 image(s) found.\n",
      "Output directory set to input/output."
     ]
    },
    {
     "name": "stderr",
     "output_type": "stream",
     "text": [
      "Processing <PIL.Image.Image image mode=RGB size=28x28 at 0x222515FCC50>: 100%|████| 2/2 [00:00<00:00, 334.17 Samples/s]\n"
     ]
    },
    {
     "data": {
      "text/plain": [
       "'output/0'"
      ]
     },
     "execution_count": 2,
     "metadata": {},
     "output_type": "execute_result"
    }
   ],
   "source": [
    "# オブジェクトの生成\n",
    "p = Augmentor.Pipeline(\"input/\")\n",
    "\n",
    "p.rotate(probability=1.0, max_left_rotation=25, max_right_rotation=25)\n",
    "p.zoom(probability=1.0, min_factor=1.1, max_factor=1.5)\n",
    "\n",
    "# 実行\n",
    "p.sample(2)\n",
    "\n",
    "# ディレクトリの名前を変更し移動\n",
    "dpath_from = 'input/0'\n",
    "dpath_to = 'output/'\n",
    "os.rename(\"input/output\", dpath_from)\n",
    "shutil.move(dpath_from, dpath_to)"
   ]
  },
  {
   "cell_type": "code",
   "execution_count": null,
   "metadata": {},
   "outputs": [],
   "source": []
  }
 ],
 "metadata": {
  "kernelspec": {
   "display_name": "Python 3",
   "language": "python",
   "name": "python3"
  },
  "language_info": {
   "codemirror_mode": {
    "name": "ipython",
    "version": 3
   },
   "file_extension": ".py",
   "mimetype": "text/x-python",
   "name": "python",
   "nbconvert_exporter": "python",
   "pygments_lexer": "ipython3",
   "version": "3.7.3"
  }
 },
 "nbformat": 4,
 "nbformat_minor": 2
}
