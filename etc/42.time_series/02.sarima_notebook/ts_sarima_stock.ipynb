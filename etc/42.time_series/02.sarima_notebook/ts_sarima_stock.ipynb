{
 "cells": [
  {
   "cell_type": "markdown",
   "metadata": {},
   "source": [
    "参考：　データ分析で株価予測をしてみた　https://qiita.com/kazama0119/items/c838114f8687518ba58e\n"
   ]
  },
  {
   "cell_type": "markdown",
   "metadata": {},
   "source": [
    "dt,endvalue\n",
    "2016/1/4,1000\n",
    "2016/1/5,1010\n",
    " :\n",
    " :\n",
    " :\n"
   ]
  },
  {
   "cell_type": "code",
   "execution_count": null,
   "metadata": {},
   "outputs": [],
   "source": [
    "%matplotlib inline\n",
    "import matplotlib.pyplot as plt\n",
    "import pandas as pd\n",
    "import numpy as np\n",
    "import itertools\n",
    "import statsmodels.api as sm\n",
    "import warnings\n",
    "warnings.filterwarnings('ignore') # 計算警告を非表示"
   ]
  },
  {
   "cell_type": "markdown",
   "metadata": {},
   "source": [
    "## データ読み込み"
   ]
  },
  {
   "cell_type": "code",
   "execution_count": null,
   "metadata": {},
   "outputs": [],
   "source": [
    "def read_data():\n",
    "    # 日付形式で読み込む\n",
    "    dateparse = lambda dates: pd.datetime.strptime(dates, '%Y/%m/%d')\n",
    "    df = pd.read_csv('input_data/xxxxxxxx.csv', index_col='dt', date_parser=dateparse, dtype='float')\n",
    "    return df\n",
    "\n",
    "df = read_data()"
   ]
  },
  {
   "cell_type": "markdown",
   "metadata": {},
   "source": [
    "## 可視化"
   ]
  },
  {
   "cell_type": "code",
   "execution_count": null,
   "metadata": {},
   "outputs": [],
   "source": [
    "plt.plot(df['endvalue'])\n",
    "plt.show()"
   ]
  },
  {
   "cell_type": "markdown",
   "metadata": {},
   "source": [
    "## 前処理"
   ]
  },
  {
   "cell_type": "code",
   "execution_count": null,
   "metadata": {},
   "outputs": [],
   "source": [
    "new_idx = pd.date_range(df.index[0], df.index[-1], freq='D')\n",
    "df = df.reindex(new_idx, fill_value=np.nan)\n",
    "df = df.interpolate()"
   ]
  },
  {
   "cell_type": "code",
   "execution_count": null,
   "metadata": {},
   "outputs": [],
   "source": [
    "df.head(10)"
   ]
  },
  {
   "cell_type": "code",
   "execution_count": null,
   "metadata": {},
   "outputs": [],
   "source": [
    "plt.plot(df['endvalue'])\n",
    "plt.show()"
   ]
  },
  {
   "cell_type": "markdown",
   "metadata": {},
   "source": [
    "## パラメータ設定"
   ]
  },
  {
   "cell_type": "code",
   "execution_count": null,
   "metadata": {},
   "outputs": [],
   "source": [
    "df_diff = df - df.shift()\n",
    "df_diff = df_diff.dropna()\n",
    "df_diff.plot()"
   ]
  },
  {
   "cell_type": "code",
   "execution_count": null,
   "metadata": {},
   "outputs": [],
   "source": [
    "# 自動ARMAパラメータ推定関数\n",
    "res_selection = sm.tsa.arma_order_select_ic(df_diff, ic='aic', trend='nc')\n",
    "res_selection"
   ]
  },
  {
   "cell_type": "code",
   "execution_count": null,
   "metadata": {},
   "outputs": [],
   "source": [
    "p = res_selection['aic_min_order'][0]\n",
    "d = 1\n",
    "q = res_selection['aic_min_order'][1]"
   ]
  },
  {
   "cell_type": "markdown",
   "metadata": {},
   "source": [
    "## モデルの構築"
   ]
  },
  {
   "cell_type": "code",
   "execution_count": null,
   "metadata": {},
   "outputs": [],
   "source": [
    "SARIMA_yen_data = sm.tsa.statespace.SARIMAX(df, order=(p, d, q), seasonal_order=(0, 1, 1, 12), enforce_stationarity = False, enforce_invertibility = False).fit()\n",
    "pred = SARIMA_yen_data.predict(\"2016-02-01\", \"2017-02-01\", freq=\"D\")"
   ]
  },
  {
   "cell_type": "markdown",
   "metadata": {},
   "source": [
    "## 結果と予測の比較"
   ]
  },
  {
   "cell_type": "code",
   "execution_count": null,
   "metadata": {},
   "outputs": [],
   "source": [
    "plt.plot(df['endvalue'])\n",
    "plt.plot(pred, c=\"r\")\n",
    "plt.show()"
   ]
  },
  {
   "cell_type": "code",
   "execution_count": null,
   "metadata": {},
   "outputs": [],
   "source": []
  },
  {
   "cell_type": "markdown",
   "metadata": {},
   "source": [
    "## パラメータ設定 ~ 結果と予測の比較  2"
   ]
  },
  {
   "cell_type": "code",
   "execution_count": null,
   "metadata": {},
   "outputs": [],
   "source": [
    "def selectparameter(df ,s):\n",
    "    p = d = q = range(0, 2)\n",
    "    pdq = list(itertools.product(p, d, q))\n",
    "    seasonal_pdq = [(x[0], x[1], x[2], s) for x in list(itertools.product(p, d, q))]\n",
    "    parameters = []\n",
    "    BICs = np.array([])\n",
    "    for param in pdq:\n",
    "        for param_seasonal in seasonal_pdq:\n",
    "            try:\n",
    "                mod = sm.tsa.statespace.SARIMAX(df,\n",
    "                                            order=param,\n",
    "                                            seasonal_order=param_seasonal)\n",
    "                results = mod.fit()\n",
    "                parameters.append([param, param_seasonal, results.bic])\n",
    "                BICs = np.append(BICs,results.bic)\n",
    "            except:\n",
    "                continue\n",
    "    return parameters[np.argmin(BICs)]\n"
   ]
  },
  {
   "cell_type": "code",
   "execution_count": null,
   "metadata": {},
   "outputs": [],
   "source": [
    "# 予測\n",
    "params = selectparameter(df, 12)\n",
    "print(params)\n",
    "order = params[0]\n",
    "seasonal_order = params[1]\n"
   ]
  },
  {
   "cell_type": "code",
   "execution_count": null,
   "metadata": {},
   "outputs": [],
   "source": [
    "SARIMA_yen_data = sm.tsa.statespace.SARIMAX(df, order=order, seasonal_order=seasonal_order, enforce_stationarity = False, enforce_invertibility = False).fit()\n",
    "pred = SARIMA_yen_data.predict(\"2016-02-01\", \"2017-02-01\", freq=\"D\")"
   ]
  },
  {
   "cell_type": "code",
   "execution_count": null,
   "metadata": {},
   "outputs": [],
   "source": [
    "plt.plot(df['endvalue'])\n",
    "plt.plot(pred, c=\"r\")\n",
    "plt.show()"
   ]
  }
 ],
 "metadata": {
  "kernelspec": {
   "display_name": "Python 3",
   "language": "python",
   "name": "python3"
  },
  "language_info": {
   "codemirror_mode": {
    "name": "ipython",
    "version": 3
   },
   "file_extension": ".py",
   "mimetype": "text/x-python",
   "name": "python",
   "nbconvert_exporter": "python",
   "pygments_lexer": "ipython3",
   "version": "3.7.6"
  }
 },
 "nbformat": 4,
 "nbformat_minor": 4
}
