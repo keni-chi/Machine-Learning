{
 "cells": [
  {
   "cell_type": "code",
   "execution_count": 1,
   "metadata": {},
   "outputs": [],
   "source": [
    "# https://qiita.com/kzm4269/items/081ff2fdb8a6b0a6112f\n",
    "# https://qiita.com/ekzemplaro/items/88fbb31a1de4ee148399\n",
    "\n",
    "# 正式doc\n",
    "#https://networkx.org/documentation/networkx-2.0/release/release_2.0.html"
   ]
  },
  {
   "cell_type": "code",
   "execution_count": 2,
   "metadata": {},
   "outputs": [],
   "source": [
    "%matplotlib inline\n",
    "%reload_ext autoreload\n",
    "%autoreload 2"
   ]
  },
  {
   "cell_type": "code",
   "execution_count": 3,
   "metadata": {},
   "outputs": [],
   "source": [
    "import networkx as nx\n",
    "\n",
    "G = nx.DiGraph()  # 有向グラフ (Directed Graph)\n",
    "\n",
    "# 頂点の追加\n",
    "G.add_node(1)                \n",
    "G.add_nodes_from([3, 4, 5])\n",
    "\n",
    "# 辺の追加 (頂点も必要に応じて追加されます)\n",
    "G.add_edge(1, 2)                                    \n",
    "G.add_edges_from([(1, 3), (2, 5), (3, 4), (4, 5)])\n",
    "\n",
    "# 辺の削除\n",
    "G.remove_edge(3, 4)                    \n",
    "G.remove_edges_from([(1, 3), (2, 5)])\n",
    "\n",
    "# 頂点の削除 (削除された頂点に接続されている辺も削除されます)\n",
    "G.remove_node(5)\n",
    "G.remove_nodes_from([3, 4])\n",
    "\n",
    "# 指定したパス上の頂点と辺を追加\n",
    "nx.add_path(G, [1, 2, 3, 4, 5])  # 1 → 2 → 3 → 4 → 5\n",
    "\n",
    "# 指定した閉路上の頂点と辺を追加\n",
    "nx.add_cycle(G, [1, 2, 3, 4, 5])  # 1 → 2 → 3 → 4 → 5 → 1\n",
    "\n",
    "# 放射状に頂点と辺を追加\n",
    "nx.add_star(G, [1, 2, 3, 4, 5])  # 1 → 2, 1 → 3, 1 → 4, 1 → 5"
   ]
  },
  {
   "cell_type": "code",
   "execution_count": 4,
   "metadata": {},
   "outputs": [],
   "source": [
    "# Matplotlibを使う"
   ]
  },
  {
   "cell_type": "code",
   "execution_count": 5,
   "metadata": {},
   "outputs": [
    {
     "data": {
      "image/png": "[encoded data removed]",
      "text/plain": [
       "<Figure size 432x288 with 1 Axes>"
      ]
     },
     "metadata": {
      "needs_background": "light"
     },
     "output_type": "display_data"
    }
   ],
   "source": [
    "import matplotlib.pyplot as plt\n",
    "import networkx as nx\n",
    "\n",
    "G = nx.DiGraph()\n",
    "nx.add_path(G, [3, 5, 4, 1, 0, 2, 7, 8, 9, 6])\n",
    "nx.add_path(G, [3, 0, 6, 4, 2, 7, 1, 9, 8, 5])\n",
    "\n",
    "nx.draw_networkx(G)\n",
    "plt.show()"
   ]
  },
  {
   "cell_type": "code",
   "execution_count": 6,
   "metadata": {},
   "outputs": [],
   "source": [
    "## ラッパー"
   ]
  },
  {
   "cell_type": "code",
   "execution_count": 7,
   "metadata": {},
   "outputs": [],
   "source": [
    "#pip install \"https://github.com/CristiFati/Prebuilt-Binaries/blob/master/PyGraphviz/v1.5/pygraphviz-1.5-cp37-cp37m-win_amd64.whl?raw=true\""
   ]
  },
  {
   "cell_type": "code",
   "execution_count": 8,
   "metadata": {},
   "outputs": [],
   "source": [
    "## 本体インストール手順\n",
    "# http://ruby.kyoto-wu.ac.jp/info-com/Softwares/Graphviz/\n",
    "# https://qiita.com/BARANCE_TW/items/c3f7816d38cc9e746bbd\n",
    "\n",
    "## 本体ダウンロード\n",
    "#https://gitlab.com/graphviz/graphviz/-/releases\n",
    "# stable_windows_10_msbuild_Release_Win32_graphviz-2.47.2-win32.zip\n"
   ]
  },
  {
   "cell_type": "code",
   "execution_count": 9,
   "metadata": {},
   "outputs": [],
   "source": [
    "import networkx as nx\n",
    "\n",
    "G = nx.DiGraph()\n",
    "nx.add_path(G, [3, 5, 4, 1, 0, 2, 7, 8, 9, 6])\n",
    "nx.add_path(G, [3, 0, 6, 4, 2, 7, 1, 9, 8, 5])\n",
    "\n",
    "#nx.nx_agraph.view_pygraphviz(G, prog='fdp')  # pygraphvizが必要\n"
   ]
  },
  {
   "cell_type": "code",
   "execution_count": 10,
   "metadata": {},
   "outputs": [
    {
     "data": {
      "image/svg+xml": [
       "<svg height=\"285pt\" viewBox=\"0.00 0.00 306.00 285.00\" width=\"306pt\" xmlns=\"http://www.w3.org/2000/svg\" xmlns:xlink=\"http://www.w3.org/1999/xlink\">\n",
       "<g class=\"graph\" id=\"graph0\" transform=\"scale(1 1) rotate(0) translate(4 281)\">\n",
       "<polygon fill=\"white\" points=\"-4,4 -4,-281 302,-281 302,4 -4,4\" stroke=\"transparent\"/>\n",
       "<!-- 3 -->\n",
       "<g class=\"node\" id=\"node1\">\n",
       "<title>3</title>\n",
       "<ellipse cx=\"27\" cy=\"-199.62\" fill=\"none\" rx=\"27\" ry=\"18\" stroke=\"black\"/>\n",
       "<text font-family=\"Times New Roman,serif\" font-size=\"14.00\" text-anchor=\"middle\" x=\"27\" y=\"-195.92\">3</text>\n",
       "</g>\n",
       "<!-- 5 -->\n",
       "<g class=\"node\" id=\"node2\">\n",
       "<title>5</title>\n",
       "<ellipse cx=\"80.11\" cy=\"-107.98\" fill=\"none\" rx=\"27\" ry=\"18\" stroke=\"black\"/>\n",
       "<text font-family=\"Times New Roman,serif\" font-size=\"14.00\" text-anchor=\"middle\" x=\"80.11\" y=\"-104.28\">5</text>\n",
       "</g>\n",
       "<!-- 3&#45;&gt;5 -->\n",
       "<g class=\"edge\" id=\"edge1\">\n",
       "<title>3-&gt;5</title>\n",
       "<path d=\"M36.74,-182.81C44.7,-169.07 56.09,-149.43 65.2,-133.71\" fill=\"none\" stroke=\"black\"/>\n",
       "<polygon fill=\"black\" points=\"68.27,-135.4 70.25,-124.99 62.21,-131.89 68.27,-135.4\" stroke=\"black\"/>\n",
       "</g>\n",
       "<!-- 0 -->\n",
       "<g class=\"node\" id=\"node3\">\n",
       "<title>0</title>\n",
       "<ellipse cx=\"134.54\" cy=\"-184.93\" fill=\"none\" rx=\"27\" ry=\"18\" stroke=\"black\"/>\n",
       "<text font-family=\"Times New Roman,serif\" font-size=\"14.00\" text-anchor=\"middle\" x=\"134.54\" y=\"-181.23\">0</text>\n",
       "</g>\n",
       "<!-- 3&#45;&gt;0 -->\n",
       "<g class=\"edge\" id=\"edge2\">\n",
       "<title>3-&gt;0</title>\n",
       "<path d=\"M53.59,-195.99C66.9,-194.17 83.23,-191.94 97.73,-189.96\" fill=\"none\" stroke=\"black\"/>\n",
       "<polygon fill=\"black\" points=\"98.46,-193.39 107.89,-188.57 97.51,-186.45 98.46,-193.39\" stroke=\"black\"/>\n",
       "</g>\n",
       "<!-- 4 -->\n",
       "<g class=\"node\" id=\"node4\">\n",
       "<title>4</title>\n",
       "<ellipse cx=\"208.29\" cy=\"-183.97\" fill=\"none\" rx=\"27\" ry=\"18\" stroke=\"black\"/>\n",
       "<text font-family=\"Times New Roman,serif\" font-size=\"14.00\" text-anchor=\"middle\" x=\"208.29\" y=\"-180.27\">4</text>\n",
       "</g>\n",
       "<!-- 5&#45;&gt;4 -->\n",
       "<g class=\"edge\" id=\"edge3\">\n",
       "<title>5-&gt;4</title>\n",
       "<path d=\"M100.42,-120.02C121.71,-132.63 155.33,-152.57 179.38,-166.82\" fill=\"none\" stroke=\"black\"/>\n",
       "<polygon fill=\"black\" points=\"177.69,-169.89 188.08,-171.98 181.26,-163.87 177.69,-169.89\" stroke=\"black\"/>\n",
       "</g>\n",
       "<!-- 2 -->\n",
       "<g class=\"node\" id=\"node6\">\n",
       "<title>2</title>\n",
       "<ellipse cx=\"135.96\" cy=\"-258.98\" fill=\"none\" rx=\"27\" ry=\"18\" stroke=\"black\"/>\n",
       "<text font-family=\"Times New Roman,serif\" font-size=\"14.00\" text-anchor=\"middle\" x=\"135.96\" y=\"-255.28\">2</text>\n",
       "</g>\n",
       "<!-- 0&#45;&gt;2 -->\n",
       "<g class=\"edge\" id=\"edge8\">\n",
       "<title>0-&gt;2</title>\n",
       "<path d=\"M134.89,-203.23C135.05,-211.48 135.24,-221.42 135.42,-230.6\" fill=\"none\" stroke=\"black\"/>\n",
       "<polygon fill=\"black\" points=\"131.92,-230.96 135.62,-240.89 138.92,-230.82 131.92,-230.96\" stroke=\"black\"/>\n",
       "</g>\n",
       "<!-- 6 -->\n",
       "<g class=\"node\" id=\"node8\">\n",
       "<title>6</title>\n",
       "<ellipse cx=\"271.49\" cy=\"-138.22\" fill=\"none\" rx=\"27\" ry=\"18\" stroke=\"black\"/>\n",
       "<text font-family=\"Times New Roman,serif\" font-size=\"14.00\" text-anchor=\"middle\" x=\"271.49\" y=\"-134.52\">6</text>\n",
       "</g>\n",
       "<!-- 0&#45;&gt;6 -->\n",
       "<g class=\"edge\" id=\"edge9\">\n",
       "<title>0-&gt;6</title>\n",
       "<path d=\"M158.71,-176.69C180.58,-169.23 213.01,-158.17 237.49,-149.82\" fill=\"none\" stroke=\"black\"/>\n",
       "<polygon fill=\"black\" points=\"238.77,-153.08 247.1,-146.54 236.51,-146.46 238.77,-153.08\" stroke=\"black\"/>\n",
       "</g>\n",
       "<!-- 1 -->\n",
       "<g class=\"node\" id=\"node5\">\n",
       "<title>1</title>\n",
       "<ellipse cx=\"216.67\" cy=\"-81.9\" fill=\"none\" rx=\"27\" ry=\"18\" stroke=\"black\"/>\n",
       "<text font-family=\"Times New Roman,serif\" font-size=\"14.00\" text-anchor=\"middle\" x=\"216.67\" y=\"-78.2\">1</text>\n",
       "</g>\n",
       "<!-- 4&#45;&gt;1 -->\n",
       "<g class=\"edge\" id=\"edge4\">\n",
       "<title>4-&gt;1</title>\n",
       "<path d=\"M209.79,-165.72C211.06,-150.26 212.9,-127.85 214.36,-110.08\" fill=\"none\" stroke=\"black\"/>\n",
       "<polygon fill=\"black\" points=\"217.85,-110.24 215.18,-99.99 210.88,-109.67 217.85,-110.24\" stroke=\"black\"/>\n",
       "</g>\n",
       "<!-- 4&#45;&gt;2 -->\n",
       "<g class=\"edge\" id=\"edge5\">\n",
       "<title>4-&gt;2</title>\n",
       "<path d=\"M193.66,-199.15C183.36,-209.82 169.41,-224.29 157.8,-236.33\" fill=\"none\" stroke=\"black\"/>\n",
       "<polygon fill=\"black\" points=\"155,-234.2 150.58,-243.82 160.04,-239.06 155,-234.2\" stroke=\"black\"/>\n",
       "</g>\n",
       "<!-- 1&#45;&gt;0 -->\n",
       "<g class=\"edge\" id=\"edge6\">\n",
       "<title>1-&gt;0</title>\n",
       "<path d=\"M203.84,-98C190.4,-114.86 169.14,-141.53 153.71,-160.89\" fill=\"none\" stroke=\"black\"/>\n",
       "<polygon fill=\"black\" points=\"150.78,-158.94 147.28,-168.94 156.25,-163.31 150.78,-158.94\" stroke=\"black\"/>\n",
       "</g>\n",
       "<!-- 9 -->\n",
       "<g class=\"node\" id=\"node7\">\n",
       "<title>9</title>\n",
       "<ellipse cx=\"269.67\" cy=\"-18.84\" fill=\"none\" rx=\"27\" ry=\"18\" stroke=\"black\"/>\n",
       "<text font-family=\"Times New Roman,serif\" font-size=\"14.00\" text-anchor=\"middle\" x=\"269.67\" y=\"-15.14\">9</text>\n",
       "</g>\n",
       "<!-- 1&#45;&gt;9 -->\n",
       "<g class=\"edge\" id=\"edge7\">\n",
       "<title>1-&gt;9</title>\n",
       "<path d=\"M230.04,-65.99C235.9,-59.02 242.9,-50.7 249.38,-42.99\" fill=\"none\" stroke=\"black\"/>\n",
       "<polygon fill=\"black\" points=\"252.36,-44.88 256.12,-34.97 247,-40.37 252.36,-44.88\" stroke=\"black\"/>\n",
       "</g>\n",
       "<!-- 7 -->\n",
       "<g class=\"node\" id=\"node9\">\n",
       "<title>7</title>\n",
       "<ellipse cx=\"146.56\" cy=\"-129.14\" fill=\"none\" rx=\"27\" ry=\"18\" stroke=\"black\"/>\n",
       "<text font-family=\"Times New Roman,serif\" font-size=\"14.00\" text-anchor=\"middle\" x=\"146.56\" y=\"-125.44\">7</text>\n",
       "</g>\n",
       "<!-- 2&#45;&gt;7 -->\n",
       "<g class=\"edge\" id=\"edge10\">\n",
       "<title>2-&gt;7</title>\n",
       "<path d=\"M137.44,-240.93C139.2,-219.35 142.17,-182.96 144.24,-157.59\" fill=\"none\" stroke=\"black\"/>\n",
       "<polygon fill=\"black\" points=\"147.74,-157.71 145.06,-147.46 140.76,-157.14 147.74,-157.71\" stroke=\"black\"/>\n",
       "</g>\n",
       "<!-- 9&#45;&gt;6 -->\n",
       "<g class=\"edge\" id=\"edge16\">\n",
       "<title>9-&gt;6</title>\n",
       "<path d=\"M269.95,-36.97C270.24,-56.34 270.72,-87.31 271.06,-109.9\" fill=\"none\" stroke=\"black\"/>\n",
       "<polygon fill=\"black\" points=\"267.56,-109.98 271.21,-119.92 274.56,-109.87 267.56,-109.98\" stroke=\"black\"/>\n",
       "</g>\n",
       "<!-- 8 -->\n",
       "<g class=\"node\" id=\"node10\">\n",
       "<title>8</title>\n",
       "<ellipse cx=\"151.65\" cy=\"-18.3\" fill=\"none\" rx=\"27\" ry=\"18\" stroke=\"black\"/>\n",
       "<text font-family=\"Times New Roman,serif\" font-size=\"14.00\" text-anchor=\"middle\" x=\"151.65\" y=\"-14.6\">8</text>\n",
       "</g>\n",
       "<!-- 9&#45;&gt;8 -->\n",
       "<g class=\"edge\" id=\"edge15\">\n",
       "<title>9-&gt;8</title>\n",
       "<path d=\"M244.09,-13.05C227.58,-11.78 205.87,-11.48 187.64,-12.19\" fill=\"none\" stroke=\"black\"/>\n",
       "<polygon fill=\"black\" points=\"187.45,-8.7 177.64,-12.71 187.81,-15.69 187.45,-8.7\" stroke=\"black\"/>\n",
       "</g>\n",
       "<!-- 6&#45;&gt;4 -->\n",
       "<g class=\"edge\" id=\"edge17\">\n",
       "<title>6-&gt;4</title>\n",
       "<path d=\"M252.87,-151.7C247.39,-155.67 241.28,-160.09 235.39,-164.36\" fill=\"none\" stroke=\"black\"/>\n",
       "<polygon fill=\"black\" points=\"233.05,-161.73 227,-170.43 237.15,-167.4 233.05,-161.73\" stroke=\"black\"/>\n",
       "</g>\n",
       "<!-- 7&#45;&gt;1 -->\n",
       "<g class=\"edge\" id=\"edge11\">\n",
       "<title>7-&gt;1</title>\n",
       "<path d=\"M165.72,-116.23C172.9,-111.39 181.22,-105.79 189.03,-100.53\" fill=\"none\" stroke=\"black\"/>\n",
       "<polygon fill=\"black\" points=\"191.2,-103.29 197.53,-94.8 187.28,-97.48 191.2,-103.29\" stroke=\"black\"/>\n",
       "</g>\n",
       "<!-- 7&#45;&gt;8 -->\n",
       "<g class=\"edge\" id=\"edge12\">\n",
       "<title>7-&gt;8</title>\n",
       "<path d=\"M147.4,-110.84C148.2,-93.43 149.41,-66.98 150.34,-46.81\" fill=\"none\" stroke=\"black\"/>\n",
       "<polygon fill=\"black\" points=\"153.85,-46.78 150.81,-36.63 146.85,-46.46 153.85,-46.78\" stroke=\"black\"/>\n",
       "</g>\n",
       "<!-- 8&#45;&gt;5 -->\n",
       "<g class=\"edge\" id=\"edge13\">\n",
       "<title>8-&gt;5</title>\n",
       "<path d=\"M138.86,-34.33C127.87,-48.1 111.87,-68.16 99.34,-83.87\" fill=\"none\" stroke=\"black\"/>\n",
       "<polygon fill=\"black\" points=\"96.29,-82.08 92.79,-92.08 101.76,-86.45 96.29,-82.08\" stroke=\"black\"/>\n",
       "</g>\n",
       "<!-- 8&#45;&gt;9 -->\n",
       "<g class=\"edge\" id=\"edge14\">\n",
       "<title>8-&gt;9</title>\n",
       "<path d=\"M177.23,-24.09C193.74,-25.36 215.45,-25.66 233.69,-24.95\" fill=\"none\" stroke=\"black\"/>\n",
       "<polygon fill=\"black\" points=\"233.88,-28.44 243.68,-24.43 233.51,-21.45 233.88,-28.44\" stroke=\"black\"/>\n",
       "</g>\n",
       "</g>\n",
       "</svg>"
      ],
      "text/plain": [
       "<IPython.core.display.SVG object>"
      ]
     },
     "metadata": {},
     "output_type": "display_data"
    }
   ],
   "source": [
    "import networkx as nx\n",
    "from IPython.display import SVG, display\n",
    "\n",
    "G = nx.DiGraph()\n",
    "nx.add_path(G, [3, 5, 4, 1, 0, 2, 7, 8, 9, 6])\n",
    "nx.add_path(G, [3, 0, 6, 4, 2, 7, 1, 9, 8, 5])\n",
    "\n",
    "svg = SVG(nx.nx_agraph.to_agraph(G).draw(prog='fdp', format='svg'))\n",
    "display(svg)"
   ]
  },
  {
   "cell_type": "code",
   "execution_count": 11,
   "metadata": {},
   "outputs": [],
   "source": [
    "#基本的な情報の取得"
   ]
  },
  {
   "cell_type": "code",
   "execution_count": 12,
   "metadata": {},
   "outputs": [],
   "source": [
    "# 略\n"
   ]
  },
  {
   "cell_type": "code",
   "execution_count": 13,
   "metadata": {},
   "outputs": [],
   "source": [
    "#頂点や辺にデータをもたせる"
   ]
  },
  {
   "cell_type": "code",
   "execution_count": 14,
   "metadata": {},
   "outputs": [
    {
     "name": "stdout",
     "output_type": "stream",
     "text": [
      "{1: {'a': 'Alice'}, 2: {}, 3: {}}\n",
      "{(1, 2): {'b': 'Bob'}, (1, 3): {'d': 'Dave'}, (2, 3): {'c': 'Carol'}}\n",
      "{1: {2: {'b': 'Bob'}, 3: {'d': 'Dave'}}, 2: {3: {'c': 'Carol'}}, 3: {}}\n",
      "{1: {}, 2: {1: {'b': 'Bob'}}, 3: {1: {'d': 'Dave'}, 2: {'c': 'Carol'}}}\n"
     ]
    }
   ],
   "source": [
    "import matplotlib.pyplot as plt\n",
    "import networkx as nx\n",
    "\n",
    "G = nx.DiGraph()\n",
    "G.add_edges_from([(1, 2), (1, 3), (2, 3)])\n",
    "\n",
    "# G.nodes[頂点][属性キー] = 属性値\n",
    "G.nodes[1]['a'] = 'Alice'\n",
    "\n",
    "# G.edges[辺][属性キー] = 属性値\n",
    "G.edges[1, 2]['b'] = 'Bob'\n",
    "\n",
    "# G.succ[始点][終点][属性キー] = 属性値\n",
    "G.succ[2][3]['c'] = 'Carol'\n",
    "\n",
    "# G.pred[終点][始点][属性キー] = 属性値\n",
    "G.pred[3][1]['d'] = 'Dave'\n",
    "\n",
    "print(dict(G.nodes))\n",
    "# {1: {'a': 'Alice'}, 2: {}, 3: {}}\n",
    "\n",
    "print(dict(G.edges))\n",
    "# {(1, 2): {'b': 'Bob'}, (1, 3): {'d': 'Dave'}, (2, 3): {'c': 'Carol'}}\n",
    "\n",
    "print(G.succ)\n",
    "# {1: {2: {'b': 'Bob'}, 3: {'d': 'Dave'}}, 2: {3: {'c': 'Carol'}}, 3: {}}\n",
    "\n",
    "print(G.pred)\n",
    "# {1: {2: {'b': 'Bob'}, 3: {'d': 'Dave'}}, 2: {3: {'c': 'Carol'}}, 3: {}}"
   ]
  },
  {
   "cell_type": "code",
   "execution_count": 15,
   "metadata": {},
   "outputs": [
    {
     "name": "stdout",
     "output_type": "stream",
     "text": [
      "{2: 'Bob', 3: 'Bravo'}\n",
      "{1: 'Carol'}\n",
      "{1: {'a': 'Alice', 'c': 'Carol'}, 2: {'a': 'Alice', 'b': 'Bob', 'd': 'Dave'}, 3: {'a': 'Alice', 'b': 'Bravo'}}\n"
     ]
    }
   ],
   "source": [
    "import networkx as nx\n",
    "\n",
    "G = nx.DiGraph()\n",
    "G.add_edges_from([(1, 2), (1, 3), (2, 3)])\n",
    "\n",
    "# すべての頂点に同じ属性値を設定する.\n",
    "nx.set_node_attributes(G, name='a', values='Alice')\n",
    "\n",
    "# 頂点ごとに属性値を個別に設定する. キーは共通.\n",
    "nx.set_node_attributes(G, name='b', values={2: 'Bob', 3: 'Bravo'})\n",
    "\n",
    "# まるごと渡す.\n",
    "nx.set_node_attributes(G, values={1: {'c': 'Carol'}, 2: {'d': 'Dave'}})\n",
    "\n",
    "print(nx.get_node_attributes(G, 'b'))\n",
    "# {2: 'Bob', 3: 'Bravo'}\n",
    "\n",
    "print(nx.get_node_attributes(G, 'c'))\n",
    "# {2: 'Carol'}\n",
    "\n",
    "print(dict(G.nodes))\n",
    "# {1: {'a': 'Alice', 'c': 'Carol'}, 2: {'a': 'Alice', 'b': 'Bob', 'd': 'Dave'}, 3: {'a': 'Alice', 'b': 'Bravo'}}"
   ]
  },
  {
   "cell_type": "code",
   "execution_count": 16,
   "metadata": {},
   "outputs": [],
   "source": [
    "# 探索系の関数"
   ]
  },
  {
   "cell_type": "code",
   "execution_count": 17,
   "metadata": {},
   "outputs": [],
   "source": [
    "# 略"
   ]
  },
  {
   "cell_type": "code",
   "execution_count": null,
   "metadata": {},
   "outputs": [],
   "source": []
  },
  {
   "cell_type": "code",
   "execution_count": null,
   "metadata": {},
   "outputs": [],
   "source": []
  }
 ],
 "metadata": {
  "kernelspec": {
   "display_name": "Python 3",
   "language": "python",
   "name": "python3"
  },
  "language_info": {
   "codemirror_mode": {
    "name": "ipython",
    "version": 3
   },
   "file_extension": ".py",
   "mimetype": "text/x-python",
   "name": "python",
   "nbconvert_exporter": "python",
   "pygments_lexer": "ipython3",
   "version": "3.7.3"
  }
 },
 "nbformat": 4,
 "nbformat_minor": 2
}
