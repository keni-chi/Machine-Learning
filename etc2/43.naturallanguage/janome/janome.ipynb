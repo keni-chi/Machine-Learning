{
 "cells": [
  {
   "cell_type": "code",
   "execution_count": 2,
   "metadata": {},
   "outputs": [
    {
     "name": "stdout",
     "output_type": "stream",
     "text": [
      "Collecting janome\n",
      "\u001b[?25l  Downloading https://files.pythonhosted.org/packages/a7/7c/560f4c9ff01a584b1ecd1da981e82d0077c079ecba84571b4f623680300e/Janome-0.3.9-py2.py3-none-any.whl (25.1MB)\n",
      "\u001b[K    100% |████████████████████████████████| 25.1MB 1.1MB/s ta 0:00:011    69% |██████████████████████▏         | 17.4MB 2.8MB/s eta 0:00:03    86% |███████████████████████████▉    | 21.9MB 5.1MB/s eta 0:00:01\n",
      "\u001b[?25hInstalling collected packages: janome\n",
      "Successfully installed janome-0.3.9\n"
     ]
    }
   ],
   "source": [
    "!pip install janome"
   ]
  },
  {
   "cell_type": "code",
   "execution_count": 1,
   "metadata": {},
   "outputs": [
    {
     "name": "stdout",
     "output_type": "stream",
     "text": [
      "私\t名詞,代名詞,一般,*,*,*,私,ワタシ,ワタシ\n",
      "は\t助詞,係助詞,*,*,*,*,は,ハ,ワ\n",
      "ご飯\t名詞,一般,*,*,*,*,ご飯,ゴハン,ゴハン\n",
      "を\t助詞,格助詞,一般,*,*,*,を,ヲ,ヲ\n",
      "食べる\t動詞,自立,*,*,一段,基本形,食べる,タベル,タベル\n",
      "。\t記号,句点,*,*,*,*,。,。,。\n",
      "そして\t接続詞,*,*,*,*,*,そして,ソシテ,ソシテ\n",
      "学校\t名詞,一般,*,*,*,*,学校,ガッコウ,ガッコー\n",
      "へ\t助詞,格助詞,一般,*,*,*,へ,ヘ,エ\n",
      "行く\t動詞,自立,*,*,五段・カ行促音便,基本形,行く,イク,イク\n",
      "。\t記号,句点,*,*,*,*,。,。,。\n"
     ]
    }
   ],
   "source": [
    "from janome.tokenizer import Tokenizer\n",
    "\n",
    "t = Tokenizer()\n",
    "\n",
    "s = \"私はご飯を食べる。そして学校へ行く。\"\n",
    "\n",
    "for token in t.tokenize(s):\n",
    "    print(token)"
   ]
  },
  {
   "cell_type": "code",
   "execution_count": null,
   "metadata": {},
   "outputs": [],
   "source": []
  }
 ],
 "metadata": {
  "kernelspec": {
   "display_name": "Python 3",
   "language": "python",
   "name": "python3"
  },
  "language_info": {
   "codemirror_mode": {
    "name": "ipython",
    "version": 3
   },
   "file_extension": ".py",
   "mimetype": "text/x-python",
   "name": "python",
   "nbconvert_exporter": "python",
   "pygments_lexer": "ipython3",
   "version": "3.7.1"
  }
 },
 "nbformat": 4,
 "nbformat_minor": 2
}
