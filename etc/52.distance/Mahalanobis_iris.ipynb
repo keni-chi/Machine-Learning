{
 "cells": [
  {
   "cell_type": "code",
   "execution_count": 1,
   "metadata": {},
   "outputs": [],
   "source": [
    "# 参考: https://qiita.com/shopetan/items/30f6e0932485c976a946"
   ]
  },
  {
   "cell_type": "code",
   "execution_count": 2,
   "metadata": {},
   "outputs": [],
   "source": [
    "import numpy as np\n",
    "import scipy as sc\n",
    "from scipy import linalg\n",
    "from scipy import spatial\n",
    "import pandas as pd\n",
    "import matplotlib.pyplot as plt\n",
    "import matplotlib.font_manager\n",
    "import pylab"
   ]
  },
  {
   "cell_type": "code",
   "execution_count": 3,
   "metadata": {},
   "outputs": [
    {
     "data": {
      "text/html": [
       "<div>\n",
       "<style scoped>\n",
       "    .dataframe tbody tr th:only-of-type {\n",
       "        vertical-align: middle;\n",
       "    }\n",
       "\n",
       "    .dataframe tbody tr th {\n",
       "        vertical-align: top;\n",
       "    }\n",
       "\n",
       "    .dataframe thead th {\n",
       "        text-align: right;\n",
       "    }\n",
       "</style>\n",
       "<table border=\"1\" class=\"dataframe\">\n",
       "  <thead>\n",
       "    <tr style=\"text-align: right;\">\n",
       "      <th></th>\n",
       "      <th>sepal length (cm)</th>\n",
       "      <th>sepal width (cm)</th>\n",
       "      <th>petal length (cm)</th>\n",
       "      <th>petal width (cm)</th>\n",
       "    </tr>\n",
       "  </thead>\n",
       "  <tbody>\n",
       "    <tr>\n",
       "      <th>0</th>\n",
       "      <td>5.1</td>\n",
       "      <td>3.5</td>\n",
       "      <td>1.4</td>\n",
       "      <td>0.2</td>\n",
       "    </tr>\n",
       "    <tr>\n",
       "      <th>1</th>\n",
       "      <td>4.9</td>\n",
       "      <td>3.0</td>\n",
       "      <td>1.4</td>\n",
       "      <td>0.2</td>\n",
       "    </tr>\n",
       "    <tr>\n",
       "      <th>2</th>\n",
       "      <td>4.7</td>\n",
       "      <td>3.2</td>\n",
       "      <td>1.3</td>\n",
       "      <td>0.2</td>\n",
       "    </tr>\n",
       "    <tr>\n",
       "      <th>3</th>\n",
       "      <td>4.6</td>\n",
       "      <td>3.1</td>\n",
       "      <td>1.5</td>\n",
       "      <td>0.2</td>\n",
       "    </tr>\n",
       "    <tr>\n",
       "      <th>4</th>\n",
       "      <td>5.0</td>\n",
       "      <td>3.6</td>\n",
       "      <td>1.4</td>\n",
       "      <td>0.2</td>\n",
       "    </tr>\n",
       "  </tbody>\n",
       "</table>\n",
       "</div>"
      ],
      "text/plain": [
       "   sepal length (cm)  sepal width (cm)  petal length (cm)  petal width (cm)\n",
       "0                5.1               3.5                1.4               0.2\n",
       "1                4.9               3.0                1.4               0.2\n",
       "2                4.7               3.2                1.3               0.2\n",
       "3                4.6               3.1                1.5               0.2\n",
       "4                5.0               3.6                1.4               0.2"
      ]
     },
     "execution_count": 3,
     "metadata": {},
     "output_type": "execute_result"
    }
   ],
   "source": [
    "from sklearn.datasets import load_iris\n",
    "# irisデータの読み込み\n",
    "iris = load_iris()\n",
    "df = pd.DataFrame(iris.data, columns=iris.feature_names)\n",
    "df.head()\n"
   ]
  },
  {
   "cell_type": "code",
   "execution_count": 4,
   "metadata": {},
   "outputs": [],
   "source": [
    "ROW = len(df)\n",
    "COLUMN = len(df.columns)\n",
    "\n",
    "row = []\n",
    "column = []\n",
    "ave = [0.0 for i in range(COLUMN)]\n",
    "vcm = np.zeros((ROW, COLUMN, COLUMN))\n",
    "diff = np.zeros((1, COLUMN))\n",
    "mahal = np.zeros(ROW)\n",
    "tmp = np.zeros(COLUMN)\n"
   ]
  },
  {
   "cell_type": "code",
   "execution_count": 5,
   "metadata": {},
   "outputs": [],
   "source": [
    "# 各特徴量毎\n",
    "for i in range(COLUMN):\n",
    "    column.append(list(df.iloc[:, i]))\n",
    "\n",
    "# 各レコード毎\n",
    "for i in range(0, ROW):\n",
    "    row.append(list(df.iloc[i, :]))\n"
   ]
  },
  {
   "cell_type": "code",
   "execution_count": 6,
   "metadata": {},
   "outputs": [],
   "source": [
    "# 各特徴量毎の平均値の計算\n",
    "for i in range(COLUMN):\n",
    "    # スライスという技法\n",
    "    ave[i] = np.average(column[i][0:len(column[i])])\n"
   ]
  },
  {
   "cell_type": "code",
   "execution_count": 7,
   "metadata": {},
   "outputs": [
    {
     "name": "stdout",
     "output_type": "stream",
     "text": [
      "--平均--\n",
      "[5.84333333 3.05733333 3.758      1.19933333]\n"
     ]
    }
   ],
   "source": [
    "# 分散共分散行列の計算\n",
    "# Numpyのメソッドを使うので，array()でリストを変換した．\n",
    "row = np.array([row])\n",
    "ave = np.array(ave)\n",
    "print('--平均--')\n",
    "print(ave)\n",
    "\n",
    "# 分散共分散行列を求める\n",
    "# np.swapaxes()で軸を変換することができる．\n",
    "for i in range(ROW):\n",
    "    diff = (row[0][i] - ave)\n",
    "    diff = np.array([diff])\n",
    "    vcm[i] = (diff * np.swapaxes(diff, 0, 1)) / ROW\n"
   ]
  },
  {
   "cell_type": "code",
   "execution_count": 8,
   "metadata": {},
   "outputs": [],
   "source": [
    "# mahalnobis distanceを求める\n",
    "for i in range(ROW):\n",
    "    # 一般逆行列を生成し，計算の都合上転値をかける\n",
    "    vcm[i] = sc.linalg.pinv(vcm[i])\n",
    "    vcm[i] = vcm[i].transpose()\n",
    "    vcm[i] = np.identity(COLUMN)\n",
    "    # 差分ベクトルの生成\n",
    "    diff = (row[0][i] - ave)\n",
    "    for j in range(COLUMN):\n",
    "        tmp[j] = np.dot(diff, vcm[i][j])\n",
    "    mahal[i] = np.dot(tmp, diff)"
   ]
  },
  {
   "cell_type": "code",
   "execution_count": 9,
   "metadata": {},
   "outputs": [
    {
     "data": {
      "text/plain": [
       "array([ 7.30732933,  7.451996  ,  8.367996  ,  7.64492933,  7.56452933,\n",
       "        5.78092933,  8.03226267,  6.92586267,  8.666796  ,  7.198796  ,\n",
       "        6.706796  ,  6.861596  ,  7.86052933, 10.65866267,  8.43252933,\n",
       "        7.560796  ,  7.58732933,  7.11746267,  5.61626267,  7.01146267,\n",
       "        5.547996  ,  6.70306267, 10.445596  ,  5.33586267,  5.656796  ,\n",
       "        6.37012933,  6.12452933,  6.70706267,  7.09012933,  6.983196  ,\n",
       "        6.745996  ,  6.05146267,  7.80812933,  7.982396  ,  6.98892933,\n",
       "        8.273596  ,  7.35426267,  7.95306267,  9.12692933,  6.767196  ,\n",
       "        7.75772933,  9.22866267,  9.143996  ,  5.92332933,  5.195196  ,\n",
       "        7.460796  ,  6.75972933,  8.12506267,  6.80546267,  7.32892933,\n",
       "        2.28586267,  0.971196  ,  2.51292933,  0.76012933,  1.296796  ,\n",
       "        0.64746267,  1.31532933,  1.57146267,  1.316396  ,  0.601996  ,\n",
       "        1.93546267,  0.29226267,  0.85786267,  1.01826267,  0.11906267,\n",
       "        1.18812933,  0.70346267,  0.28626267,  1.503196  ,  0.39986267,\n",
       "        1.47012933,  0.200796  ,  1.91372933,  1.01946267,  0.63852933,\n",
       "        1.02826267,  2.10746267,  2.530396  ,  0.69026267,  0.335996  ,\n",
       "        0.561596  ,  0.59306267,  0.14972933,  2.11372933,  0.840796  ,\n",
       "        0.85306267,  1.71346267,  1.204396  ,  0.189596  ,  0.497196  ,\n",
       "        0.739196  ,  0.818396  ,  0.269596  ,  1.53426267,  0.392396  ,\n",
       "        0.219196  ,  0.250796  ,  0.45586267,  1.447596  ,  0.21386267,\n",
       "        6.98572933,  2.42146267,  6.98186267,  3.98706267,  5.605596  ,\n",
       "       11.97732933,  2.00172933,  8.969196  ,  5.57506267,  9.31172933,\n",
       "        2.893596  ,  3.30626267,  4.76426267,  2.514796  ,  3.31066267,\n",
       "        3.91946267,  3.82986267, 13.65546267, 14.739996  ,  2.39252933,\n",
       "        6.11972933,  2.07066267, 12.80986267,  2.001196  ,  5.37532933,\n",
       "        7.24826267,  1.639996  ,  1.73412933,  4.58026267,  6.17412933,\n",
       "        8.46532933, 12.40266267,  4.770396  ,  2.16612933,  3.70826267,\n",
       "       10.14692933,  5.16052933,  3.70706267,  1.474396  ,  4.62572933,\n",
       "        5.57026267,  4.130796  ,  2.42146267,  6.735196  ,  6.25586267,\n",
       "        4.027996  ,  2.55266267,  3.15492933,  4.15226267,  2.16826267])"
      ]
     },
     "execution_count": 9,
     "metadata": {},
     "output_type": "execute_result"
    }
   ],
   "source": [
    "mahal"
   ]
  },
  {
   "cell_type": "code",
   "execution_count": 10,
   "metadata": {},
   "outputs": [
    {
     "name": "stdout",
     "output_type": "stream",
     "text": [
      "マハラノビス距離\n",
      "[2.70320723 2.72983443 2.89274887 2.76494653 2.75036894 2.40435632\n",
      " 2.83412467 2.63170338 2.94394225 2.68305721 2.58974825 2.61946483\n",
      " 2.80366356 3.26476074 2.90388177 2.74969016 2.75451072 2.66785732\n",
      " 2.36986554 2.64791667 2.35541843 2.58902736 3.23196473 2.30994863\n",
      " 2.37840198 2.52391151 2.47477864 2.58979973 2.66272968 2.64257375\n",
      " 2.59730553 2.45997209 2.79430301 2.82531343 2.64365832 2.87638593\n",
      " 2.71187438 2.82011749 3.02108082 2.60138348 2.78527006 3.0378714\n",
      " 3.0239041  2.43378909 2.27929726 2.73144577 2.59994795 2.85044956\n",
      " 2.60872817 2.70719954 1.51190696 0.98549277 1.58522217 0.87185396\n",
      " 1.13876951 0.80465065 1.14687808 1.25357994 1.14734302 0.77588401\n",
      " 1.39120907 0.54061323 0.92620876 1.00909002 0.34505459 1.09001346\n",
      " 0.83872681 0.5350352  1.22604894 0.63234695 1.2124889  0.44810267\n",
      " 1.38337606 1.00968444 0.7990803  1.01403287 1.45171026 1.59072185\n",
      " 0.83082048 0.57965162 0.74939709 0.77010562 0.38694875 1.45386703\n",
      " 0.91694929 0.92361392 1.308993   1.09744977 0.43542623 0.70512127\n",
      " 0.85976508 0.90465242 0.51922635 1.23865357 0.6264152  0.46818372\n",
      " 0.50079537 0.67517603 1.20316084 0.46245288 2.64305303 1.55610497\n",
      " 2.64232145 1.99676305 2.36761399 3.46082784 1.41482484 2.9948616\n",
      " 2.36115706 3.05151263 1.70105732 1.81831314 2.1827191  1.58581083\n",
      " 1.81952265 1.97976329 1.95700349 3.69532985 3.83927024 1.54678031\n",
      " 2.47380867 1.43897973 3.57908685 1.41463635 2.31847565 2.69225977\n",
      " 1.28062329 1.31686345 2.14015482 2.48477953 2.9095239  3.52174143\n",
      " 2.18412362 1.47177761 1.92568499 3.18542451 2.27167985 1.92537338\n",
      " 1.21424709 2.15075088 2.36014039 2.03243598 1.55610497 2.59522562\n",
      " 2.50117226 2.0069868  1.59770544 1.77621207 2.03771015 1.47250218]\n"
     ]
    },
    {
     "data": {
      "text/plain": [
       "Text(0, 0.5, 'y')"
      ]
     },
     "execution_count": 10,
     "metadata": {},
     "output_type": "execute_result"
    },
    {
     "data": {
      "image/png": "[encoded data removed]",
      "text/plain": [
       "<Figure size 432x288 with 1 Axes>"
      ]
     },
     "metadata": {
      "needs_background": "light"
     },
     "output_type": "display_data"
    }
   ],
   "source": [
    "plot = pylab.arange(0.0, COLUMN, 1.0)\n",
    "mahal = np.sqrt(mahal)\n",
    "\n",
    "print(\"マハラノビス距離\")\n",
    "print(mahal)\n",
    "plt.bar(range(ROW),mahal)\n",
    "plt.title(\"\")\n",
    "plt.xlabel(\"x\")\n",
    "plt.ylabel(\"y\")\n"
   ]
  },
  {
   "cell_type": "markdown",
   "metadata": {},
   "source": [
    "# scipyで計算"
   ]
  },
  {
   "cell_type": "code",
   "execution_count": 11,
   "metadata": {},
   "outputs": [],
   "source": [
    "# 参考: http://harmonizedai.com/article/t%E4%BA%8C%E4%B9%97%E6%B3%95/"
   ]
  },
  {
   "cell_type": "code",
   "execution_count": 12,
   "metadata": {},
   "outputs": [
    {
     "name": "stdout",
     "output_type": "stream",
     "text": [
      "--平均--\n",
      "sepal length (cm)    5.843333\n",
      "sepal width (cm)     3.057333\n",
      "petal length (cm)    3.758000\n",
      "petal width (cm)     1.199333\n",
      "dtype: float64\n",
      "--共分散--\n",
      "[[ 0.68569351 -0.042434    1.27431544  0.51627069]\n",
      " [-0.042434    0.18997942 -0.32965638 -0.12163937]\n",
      " [ 1.27431544 -0.32965638  3.11627785  1.2956094 ]\n",
      " [ 0.51627069 -0.12163937  1.2956094   0.58100626]]\n",
      "150\n"
     ]
    }
   ],
   "source": [
    "from scipy.spatial import distance\n",
    "\n",
    "# 平均値、共分散行列\n",
    "mean = np.mean(df, axis=0)\n",
    "print('--平均--')\n",
    "print(mean)\n",
    "\n",
    "cov = np.cov(df.T)\n",
    "print('--共分散--')\n",
    "print(cov)\n",
    "\n",
    "maharanobis_list = []\n",
    "\n",
    "# rowのマハラノビス距離計算\n",
    "for index, row in df.iterrows():\n",
    "    maharanobis = distance.mahalanobis(row, mean, np.linalg.pinv(cov))\n",
    "    maharanobis_list.append(maharanobis)\n",
    "\n",
    "print(len(maharanobis_list))\n",
    "    "
   ]
  },
  {
   "cell_type": "code",
   "execution_count": 13,
   "metadata": {},
   "outputs": [
    {
     "data": {
      "text/plain": [
       "[<matplotlib.lines.Line2D at 0x1eaa7e2bcc8>]"
      ]
     },
     "execution_count": 13,
     "metadata": {},
     "output_type": "execute_result"
    },
    {
     "data": {
      "image/png": "[encoded data removed]",
      "text/plain": [
       "<Figure size 432x288 with 1 Axes>"
      ]
     },
     "metadata": {
      "needs_background": "light"
     },
     "output_type": "display_data"
    }
   ],
   "source": [
    "plt.plot(maharanobis_list)"
   ]
  },
  {
   "cell_type": "code",
   "execution_count": null,
   "metadata": {},
   "outputs": [],
   "source": []
  }
 ],
 "metadata": {
  "kernelspec": {
   "display_name": ".venv",
   "language": "python",
   "name": ".venv"
  },
  "language_info": {
   "codemirror_mode": {
    "name": "ipython",
    "version": 3
   },
   "file_extension": ".py",
   "mimetype": "text/x-python",
   "name": "python",
   "nbconvert_exporter": "python",
   "pygments_lexer": "ipython3",
   "version": "3.7.6"
  }
 },
 "nbformat": 4,
 "nbformat_minor": 4
}
