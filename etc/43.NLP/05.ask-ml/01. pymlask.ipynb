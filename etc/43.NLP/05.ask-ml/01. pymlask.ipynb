{
 "cells": [
  {
   "cell_type": "code",
   "execution_count": 4,
   "id": "8b4bb75a",
   "metadata": {},
   "outputs": [
    {
     "data": {
      "text/plain": [
       "{'text': 'おはようございます。寝不足です。喉が痛いです。',\n",
       " 'emotion': defaultdict(list, {'iya': ['痛い']}),\n",
       " 'orientation': 'NEGATIVE',\n",
       " 'activation': 'NEUTRAL',\n",
       " 'emoticon': None,\n",
       " 'intension': 1,\n",
       " 'intensifier': {'interjections': ['おはよう']},\n",
       " 'representative': ('iya', ['痛い'])}"
      ]
     },
     "execution_count": 4,
     "metadata": {},
     "output_type": "execute_result"
    }
   ],
   "source": [
    "# orientationで感情チェック\n",
    "from mlask import MLAsk\n",
    "emotion_analyzer = MLAsk()\n",
    "emotion_analyzer.analyze('おはようございます。寝不足です。喉が痛いです。')\n",
    "# orientationで感情チェック"
   ]
  },
  {
   "cell_type": "code",
   "execution_count": 7,
   "id": "e89fcb58",
   "metadata": {},
   "outputs": [
    {
     "data": {
      "text/plain": [
       "{'text': '元気です。快適です。',\n",
       " 'emotion': defaultdict(list, {'yasu': ['快適'], 'yorokobi': ['快適']}),\n",
       " 'orientation': 'POSITIVE',\n",
       " 'activation': 'PASSIVE',\n",
       " 'emoticon': None,\n",
       " 'intension': 0,\n",
       " 'intensifier': {},\n",
       " 'representative': ('yasu', ['快適'])}"
      ]
     },
     "execution_count": 7,
     "metadata": {},
     "output_type": "execute_result"
    }
   ],
   "source": [
    "emotion_analyzer = MLAsk()\n",
    "emotion_analyzer.analyze('元気です。快適です。')\n",
    "# orientationで感情チェック"
   ]
  },
  {
   "cell_type": "code",
   "execution_count": 9,
   "id": "a6abd2c5",
   "metadata": {},
   "outputs": [
    {
     "data": {
      "text/plain": [
       "{'text': '元気です。不快です。',\n",
       " 'emotion': defaultdict(list, {'iya': ['不快']}),\n",
       " 'orientation': 'NEGATIVE',\n",
       " 'activation': 'NEUTRAL',\n",
       " 'emoticon': None,\n",
       " 'intension': 0,\n",
       " 'intensifier': {},\n",
       " 'representative': ('iya', ['不快'])}"
      ]
     },
     "execution_count": 9,
     "metadata": {},
     "output_type": "execute_result"
    }
   ],
   "source": [
    "emotion_analyzer = MLAsk()\n",
    "emotion_analyzer.analyze('元気です。不快です。')\n",
    "# orientationで感情チェック"
   ]
  },
  {
   "cell_type": "code",
   "execution_count": null,
   "id": "f4d1c87f",
   "metadata": {},
   "outputs": [],
   "source": []
  }
 ],
 "metadata": {
  "kernelspec": {
   "display_name": "Python 3 (ipykernel)",
   "language": "python",
   "name": "python3"
  },
  "language_info": {
   "codemirror_mode": {
    "name": "ipython",
    "version": 3
   },
   "file_extension": ".py",
   "mimetype": "text/x-python",
   "name": "python",
   "nbconvert_exporter": "python",
   "pygments_lexer": "ipython3",
   "version": "3.7.7"
  }
 },
 "nbformat": 4,
 "nbformat_minor": 5
}
