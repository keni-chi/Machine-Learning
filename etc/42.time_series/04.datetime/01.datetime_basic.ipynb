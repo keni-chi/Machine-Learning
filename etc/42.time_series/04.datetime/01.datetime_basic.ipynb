{
 "cells": [
  {
   "cell_type": "code",
   "execution_count": 1,
   "id": "40d44845",
   "metadata": {},
   "outputs": [],
   "source": [
    "import glob\n",
    "import os\n",
    "import pandas as pd\n",
    "%matplotlib inline\n",
    "%reload_ext autoreload\n",
    "%autoreload 2"
   ]
  },
  {
   "cell_type": "code",
   "execution_count": 2,
   "id": "096056dc",
   "metadata": {},
   "outputs": [
    {
     "name": "stdout",
     "output_type": "stream",
     "text": [
      "<class 'datetime.date'>\n",
      "2020-07-21\n"
     ]
    }
   ],
   "source": [
    "import datetime\n",
    "\n",
    "d = datetime.date(2020, 7, 21)\n",
    "print(type(d))\n",
    "print(d)\n"
   ]
  },
  {
   "cell_type": "code",
   "execution_count": 3,
   "id": "daf3fb3a",
   "metadata": {},
   "outputs": [],
   "source": [
    "# 上期、下期の最終日に変換"
   ]
  },
  {
   "cell_type": "code",
   "execution_count": 4,
   "id": "77e8fc96",
   "metadata": {},
   "outputs": [
    {
     "name": "stdout",
     "output_type": "stream",
     "text": [
      "A001---\n",
      "2020-02-21\n",
      "下期\n",
      "2019-09-30\n",
      "A002---\n",
      "2020-07-21\n",
      "上期\n",
      "2020-03-31\n"
     ]
    }
   ],
   "source": [
    "def conv_period_date(input_date):\n",
    "    print(input_date)\n",
    "    if input_date.month>=4 and input_date.month<=9:\n",
    "        print('上期')\n",
    "        new_d = datetime.date(input_date.year, 3, 31)\n",
    "    else:\n",
    "        print('下期')\n",
    "        new_d = datetime.date(input_date.year - 1, 9, 30)     \n",
    "    print(new_d)\n",
    "    return new_d\n",
    "    \n",
    "print('A001---')\n",
    "d = datetime.date(2020, 2, 21)\n",
    "new_d = conv_period_date(d)\n",
    "\n",
    "print('A002---')\n",
    "d = datetime.date(2020, 7, 21)\n",
    "new_d = conv_period_date(d)\n"
   ]
  },
  {
   "cell_type": "code",
   "execution_count": 5,
   "id": "37869643",
   "metadata": {},
   "outputs": [],
   "source": [
    "# 6か月足し算"
   ]
  },
  {
   "cell_type": "code",
   "execution_count": 6,
   "id": "fc7b1a68",
   "metadata": {},
   "outputs": [
    {
     "name": "stdout",
     "output_type": "stream",
     "text": [
      "A001---\n",
      "2020-02-21\n",
      "下期\n",
      "2019-09-30\n",
      "2019-09-30\n",
      "A002---\n",
      "2020-03-31\n",
      "2020-09-30\n",
      "2021-03-31\n",
      "2021-09-30\n",
      "2022-03-31\n",
      "2022-09-30\n",
      "[datetime.date(2020, 3, 31), datetime.date(2020, 9, 30), datetime.date(2021, 3, 31), datetime.date(2021, 9, 30), datetime.date(2022, 3, 31), datetime.date(2022, 9, 30)]\n",
      "<class 'pandas.core.frame.DataFrame'>\n",
      "RangeIndex: 6 entries, 0 to 5\n",
      "Data columns (total 2 columns):\n",
      " #   Column  Non-Null Count  Dtype \n",
      "---  ------  --------------  ----- \n",
      " 0   日付      6 non-null      object\n",
      " 1   変数1     6 non-null      int64 \n",
      "dtypes: int64(1), object(1)\n",
      "memory usage: 136.0+ bytes\n",
      "None\n",
      "           日付  変数1\n",
      "0  2020-03-31    1\n",
      "1  2020-09-30    1\n",
      "2  2021-03-31    1\n",
      "3  2021-09-30    1\n",
      "4  2022-03-31    1\n",
      "5  2022-09-30    1\n"
     ]
    }
   ],
   "source": [
    "from dateutil.relativedelta import relativedelta\n",
    "\n",
    "def add_month(input_date):\n",
    "    date_list = []\n",
    "    for i in range(1, 7):\n",
    "        new_d = input_date + relativedelta(days=1) + relativedelta(months=6*i) + relativedelta(days=-1)\n",
    "        print(new_d)\n",
    "        date_list.append(new_d)\n",
    "    print(date_list)\n",
    "    df = pd.DataFrame({'日付': date_list, '変数1': 1})\n",
    "    print(df.info())\n",
    "    print(df)\n",
    "    return df\n",
    "\n",
    "\n",
    "print('A001---')\n",
    "d = datetime.date(2020, 2, 21)\n",
    "period_date = conv_period_date(d)\n",
    "print(period_date)\n",
    "print('A002---')\n",
    "df = add_month(period_date)\n",
    "df.to_csv('df.csv', encoding='shift-jis')"
   ]
  },
  {
   "cell_type": "code",
   "execution_count": 7,
   "id": "e8cfe62a",
   "metadata": {},
   "outputs": [],
   "source": [
    "# to_datetime"
   ]
  },
  {
   "cell_type": "code",
   "execution_count": 8,
   "id": "6dc88e90",
   "metadata": {},
   "outputs": [
    {
     "name": "stdout",
     "output_type": "stream",
     "text": [
      "<class 'pandas.core.frame.DataFrame'>\n",
      "RangeIndex: 6 entries, 0 to 5\n",
      "Data columns (total 3 columns):\n",
      " #   Column    Non-Null Count  Dtype         \n",
      "---  ------    --------------  -----         \n",
      " 0   日付        6 non-null      object        \n",
      " 1   変数1       6 non-null      int64         \n",
      " 2   Datetime  6 non-null      datetime64[ns]\n",
      "dtypes: datetime64[ns](1), int64(1), object(1)\n",
      "memory usage: 184.0+ bytes\n",
      "None\n",
      "           日付  変数1   Datetime\n",
      "0  2020-03-31    1 2020-03-31\n",
      "1  2020-09-30    1 2020-09-30\n",
      "2  2021-03-31    1 2021-03-31\n",
      "3  2021-09-30    1 2021-09-30\n",
      "4  2022-03-31    1 2022-03-31\n"
     ]
    }
   ],
   "source": [
    "df['Datetime'] = pd.to_datetime(df['日付'])\n",
    "print(df.info())\n",
    "print(df.head())"
   ]
  },
  {
   "cell_type": "code",
   "execution_count": null,
   "id": "0bc38cbd",
   "metadata": {},
   "outputs": [],
   "source": []
  }
 ],
 "metadata": {
  "kernelspec": {
   "display_name": "Python 3 (ipykernel)",
   "language": "python",
   "name": "python3"
  },
  "language_info": {
   "codemirror_mode": {
    "name": "ipython",
    "version": 3
   },
   "file_extension": ".py",
   "mimetype": "text/x-python",
   "name": "python",
   "nbconvert_exporter": "python",
   "pygments_lexer": "ipython3",
   "version": "3.7.7"
  }
 },
 "nbformat": 4,
 "nbformat_minor": 5
}
