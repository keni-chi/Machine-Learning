{
 "cells": [
  {
   "cell_type": "markdown",
   "metadata": {},
   "source": [
    "# 1. データ準備"
   ]
  },
  {
   "cell_type": "code",
   "execution_count": null,
   "metadata": {},
   "outputs": [],
   "source": [
    "import glob\n",
    "import os\n",
    "import pandas as pd\n",
    "import japanize_matplotlib\n",
    "%matplotlib inline\n",
    "%reload_ext autoreload\n",
    "%autoreload 2"
   ]
  },
  {
   "cell_type": "code",
   "execution_count": null,
   "metadata": {},
   "outputs": [],
   "source": [
    "# ファイル名取り出し\n",
    "file_names = []\n",
    "for f in glob.glob('input/*.csv'):\n",
    "    file_names.append(os.path.split(f)[1])\n",
    "file_names\n"
   ]
  },
  {
   "cell_type": "code",
   "execution_count": null,
   "metadata": {},
   "outputs": [],
   "source": [
    "# データ読み込み\n",
    "def read_data():\n",
    "    years = []\n",
    "    for i in file_names:\n",
    "        # # 複数ヘッダのまま読み込み\n",
    "        # df_head = pd.read_csv('input/' + i, encoding=\"SHIFT-JIS\", header=[0,1,2])\n",
    "        # years.append(df)\n",
    "\n",
    "        # ヘッダ読み込み\n",
    "        temp = pd.read_csv('input2/' + i, header=None, nrows=3)\n",
    "        temp = temp.fillna('')\n",
    "        header = temp.iloc[0] + '_[' + temp.iloc[1] + ']_' + temp.iloc[2]\n",
    "        header = header.tolist()\n",
    "        # '_[]_'を削除\n",
    "        temp = []\n",
    "        for j in header:\n",
    "            if '_[]_' in j:\n",
    "                j = j.replace('_[]_', '')\n",
    "            temp.append(j)\n",
    "        header = temp\n",
    "        \n",
    "        # データ読み込み\n",
    "        df = pd.read_csv('input2/' + i, header=None, skiprows=3)\n",
    "        df.columns = header\n",
    "\n",
    "        # 結合\n",
    "        years.append(df)\n",
    "        df_concat = pd.concat(years, axis=1)\n",
    "        \n",
    "    return df_concat\n",
    "\n",
    "df = read_data()\n",
    "df.head()"
   ]
  },
  {
   "cell_type": "code",
   "execution_count": null,
   "metadata": {},
   "outputs": [],
   "source": [
    "# 重複列を削除\n",
    "df = df.loc[:,~df.columns.duplicated()]\n",
    "df.head()"
   ]
  },
  {
   "cell_type": "code",
   "execution_count": null,
   "metadata": {},
   "outputs": [],
   "source": [
    "# 列結合\n",
    "df['datetime'] = df['date'] + 'T' + df['time']\n",
    "df = df.drop(columns=['date', 'time'])\n",
    "df['datetime'] = pd.to_datetime(df['datetime'])\n",
    "df.head()"
   ]
  },
  {
   "cell_type": "code",
   "execution_count": null,
   "metadata": {},
   "outputs": [],
   "source": [
    "df.dtypes"
   ]
  },
  {
   "cell_type": "markdown",
   "metadata": {},
   "source": [
    "# 2. とりあえず描画"
   ]
  },
  {
   "cell_type": "code",
   "execution_count": null,
   "metadata": {},
   "outputs": [],
   "source": [
    "dfa = df\n",
    "dfa = dfa.set_index('datetime')\n",
    "dfa.dtypes"
   ]
  },
  {
   "cell_type": "code",
   "execution_count": null,
   "metadata": {},
   "outputs": [],
   "source": [
    "dfa.head()"
   ]
  },
  {
   "cell_type": "code",
   "execution_count": null,
   "metadata": {},
   "outputs": [],
   "source": [
    "import matplotlib.pyplot as plt\n",
    "dfa.plot(grid=True, linestyle='-', rot=90)\n",
    "plt.ylabel('y_name',size=12)  #Y軸指定\n",
    "# dfa.plot(grid=True, which='minor', linestyle='-', linewidth=0.25)\n",
    "\n",
    "#(data, x, y, kind, ax, subplots, sharex, sharey, layout, figsize, use_index, title, grid, legend, style, \n",
    "#logx, logy, loglog, xticks, yticks, xlim, ylim, rot, fontsize, colormap, table, yerr, xerr, secondary_y, \n",
    "#sort_columns, **kwds)\n",
    "\n",
    "\n",
    "# (self, xdata, ydata, linewidth, linestyle, color, marker, markersize, markeredgewidth, \n",
    "# markeredgecolor, markerfacecolor, markerfacecoloralt, fillstyle, antialiased, dash_capstyle, \n",
    "# solid_capstyle, dash_joinstyle, solid_joinstyle, pickradius, drawstyle, markevery, **kwargs)\n"
   ]
  },
  {
   "cell_type": "markdown",
   "metadata": {},
   "source": [
    "# 3. pltで描画"
   ]
  },
  {
   "cell_type": "code",
   "execution_count": null,
   "metadata": {},
   "outputs": [],
   "source": [
    "import datetime\n",
    "import matplotlib.pyplot as plt\n",
    "import matplotlib.dates as mdates\n",
    "\n",
    "dfb = dfa.reset_index()\n",
    "print(dfb.head(1))\n",
    "\n",
    "# データフレームの準備\n",
    "start_datetime = datetime.datetime(2001, 3,31)\n",
    "end_datetime = datetime.datetime(2009, 9,30)\n",
    "# start_datetime = datetime.datetime(2016, 1,28)\n",
    "# end_datetime = datetime.datetime(2016, 12,31)\n",
    "target_df = dfb[(dfb[\"datetime\"] > start_datetime)&(dfb[\"datetime\"] < end_datetime)]\n",
    "\n",
    "# 描画\n",
    "fig, ax = plt.subplots(figsize=(8, 4))\n",
    "ax.plot(target_df[\"datetime\"], target_df[\"8_[input2]_num4\"])\n",
    "\n",
    "# 軸目盛の設定\n",
    "# ax.xaxis.set_major_locator(mdates.DayLocator(bymonthday=None, interval=31, tz=None))\n",
    "ax.xaxis.set_major_locator(mdates.MonthLocator(bymonthday=1, interval=6, tz=None))\n",
    "ax.xaxis.set_major_formatter(mdates.DateFormatter(\"%Y/%m\"))\n",
    "# ax.xaxis.set_major_formatter(mdates.DateFormatter(\"%Y-%m-%d\"))\n",
    "\n",
    "## 補助目盛りを使いたい場合や時刻まで表示したい場合は以下を調整して使用\n",
    "# ax.xaxis.set_minor_locator(mdates.HourLocator(byhour=range(0, 24, 1), tz=None))\n",
    "# ax.xaxis.set_major_formatter(mdates.DateFormatter(\"%Y-%m-%d\\n%H:%M:%S\"))\n",
    "\n",
    "# 軸目盛ラベルの回転\n",
    "labels = ax.get_xticklabels()\n",
    "plt.setp(labels, rotation=90, fontsize=10);\n",
    "\n",
    "ax.grid(True)\n"
   ]
  },
  {
   "cell_type": "code",
   "execution_count": null,
   "metadata": {},
   "outputs": [],
   "source": [
    "import datetime\n",
    "from datetime import timedelta\n",
    "import matplotlib.pyplot as plt\n",
    "import matplotlib.dates as mdates\n",
    "\n",
    "\n",
    "def show_df_datetime(df):\n",
    "    df = df.reset_index()\n",
    "\n",
    "    # 開始、終了を取得\n",
    "    dt = df['datetime']\n",
    "    dt_start = dt.iloc[0]\n",
    "    dt_end = dt.iloc[-1]\n",
    "    dt_start = dt_start - timedelta(days=1)\n",
    "    \n",
    "    # データフレームの準備\n",
    "    start_datetime = dt_start  #datetime.datetime(2001,3,30)\n",
    "    end_datetime = dt_end  #datetime.datetime(2009,9,30)\n",
    "    target_df = df[(df[\"datetime\"] > start_datetime)&(df[\"datetime\"] < end_datetime)]\n",
    "\n",
    "    # 描画\n",
    "    fig, ax = plt.subplots(figsize=(12, 4))\n",
    "    ax.plot(target_df[\"datetime\"], target_df[\"8_[input2]_num4\"])\n",
    "\n",
    "    # 軸目盛の設定\n",
    "    ax.xaxis.set_major_locator(mdates.MonthLocator(bymonthday=1, interval=3, tz=None))\n",
    "    ax.xaxis.set_major_formatter(mdates.DateFormatter(\"%Y/%m\"))\n",
    "\n",
    "    # 軸目盛ラベルの回転\n",
    "    labels = ax.get_xticklabels()\n",
    "    plt.setp(labels, rotation=90, fontsize=10);\n",
    "    ax.grid(True)\n",
    "    ax.legend(bbox_to_anchor=(1.05, 1), loc='upper left', borderaxespad=0)\n",
    "    \n",
    "dfc = dfa.reset_index()\n",
    "show_df_datetime(dfa)\n",
    "# print(dfc.head(1))\n"
   ]
  },
  {
   "cell_type": "markdown",
   "metadata": {},
   "source": [
    "# 3. plt関数化（日本語化など含む）"
   ]
  },
  {
   "cell_type": "code",
   "execution_count": null,
   "metadata": {},
   "outputs": [],
   "source": [
    "import datetime\n",
    "from datetime import timedelta\n",
    "import matplotlib.pyplot as plt\n",
    "import matplotlib.dates as mdates\n",
    "# # plt.rcParams['font.sans-serif'] = 'Yu Mincho'\n",
    "# from matplotlib import rcParams\n",
    "# rcParams['font.family'] = 'sans-serif'\n",
    "# rcParams['font.sans-serif'] = ['Hiragino Maru Gothic Pro', 'Yu Gothic', 'Meirio', 'Takao', 'IPAexGothic', 'IPAPGothic', 'VL PGothic', 'Noto Sans CJK JP']\n",
    "\n",
    "\n",
    "def show_df_datetime(df):\n",
    "    df = df.reset_index()\n",
    "\n",
    "    # 開始、終了を取得\n",
    "    dt = df['datetime']\n",
    "    dt_start = dt.iloc[0]\n",
    "    dt_end = dt.iloc[-1]\n",
    "    dt_start = dt_start - timedelta(days=1)\n",
    "    \n",
    "    # データフレームの準備\n",
    "    start_datetime = dt_start  #datetime.datetime(2001,3,30)\n",
    "    end_datetime = dt_end  #datetime.datetime(2009,9,30)\n",
    "    target_df = df[(df[\"datetime\"] > start_datetime)&(df[\"datetime\"] < end_datetime)]\n",
    "\n",
    "    # 描画\n",
    "    fig, ax = plt.subplots(figsize=(12, 4))\n",
    "    ax.plot(target_df[\"datetime\"], target_df[\"8_[input2]_num4\"],label='ラべル8')\n",
    "    ax.plot(target_df[\"datetime\"], target_df[\"7_[input2]_num3\"],label='ラベル7')\n",
    "\n",
    "    # 軸目盛の設定\n",
    "    ax.xaxis.set_major_locator(mdates.MonthLocator(bymonthday=1, interval=3, tz=None))\n",
    "    ax.xaxis.set_major_formatter(mdates.DateFormatter(\"%Y/%m\"))\n",
    "\n",
    "    # 軸目盛ラベルの回転\n",
    "    labels = ax.get_xticklabels()\n",
    "    plt.setp(labels, rotation=90, fontsize=10);\n",
    "    ax.grid(True)\n",
    "    plt.legend(bbox_to_anchor=(1.05, 1), loc='upper left', borderaxespad=0)\n",
    "    plt.xlabel('xx日付', fontname=\"MS Gothic\")  #Y軸指定\n",
    "    plt.ylabel('y_name')  #Y軸指定\n",
    "\n",
    "    \n",
    "show_df_datetime(dfa)\n",
    "# print(dfc.head(1))\n"
   ]
  },
  {
   "cell_type": "code",
   "execution_count": null,
   "metadata": {},
   "outputs": [],
   "source": [
    "#以下、失敗。\n",
    "# IPAexゴシック(Ver.002.01)をダウンロード\n",
    "# 解凍してできたipaexg.ttfを \\site-packages\\matplotlib\\mpl-data\\fonts\\ttf以下にコピー\n",
    "\n",
    "\n",
    "#おそらく以下で成功。\n",
    "# pip install --upgrade matplotlib"
   ]
  },
  {
   "cell_type": "code",
   "execution_count": null,
   "metadata": {},
   "outputs": [],
   "source": []
  },
  {
   "cell_type": "markdown",
   "metadata": {},
   "source": [
    "# 4. テキスト入力"
   ]
  },
  {
   "cell_type": "code",
   "execution_count": null,
   "metadata": {},
   "outputs": [],
   "source": [
    "from ipywidgets import interact, Select"
   ]
  },
  {
   "cell_type": "code",
   "execution_count": null,
   "metadata": {},
   "outputs": [],
   "source": [
    "@interact(mode1='A01', mode2='B01', save=True)\n",
    "def f(mode1, mode2, save):\n",
    "    print(mode1)\n",
    "    show_df_datetime(dfa)"
   ]
  },
  {
   "cell_type": "code",
   "execution_count": null,
   "metadata": {},
   "outputs": [],
   "source": []
  },
  {
   "cell_type": "markdown",
   "metadata": {},
   "source": [
    "# 5.selectbox"
   ]
  },
  {
   "cell_type": "code",
   "execution_count": null,
   "metadata": {},
   "outputs": [],
   "source": [
    "import inner\n",
    "inner.run(dfa)\n"
   ]
  },
  {
   "cell_type": "code",
   "execution_count": null,
   "metadata": {},
   "outputs": [],
   "source": []
  },
  {
   "cell_type": "code",
   "execution_count": null,
   "metadata": {},
   "outputs": [],
   "source": []
  }
 ],
 "metadata": {
  "kernelspec": {
   "display_name": ".venv",
   "language": "python",
   "name": ".venv"
  },
  "language_info": {
   "codemirror_mode": {
    "name": "ipython",
    "version": 3
   },
   "file_extension": ".py",
   "mimetype": "text/x-python",
   "name": "python",
   "nbconvert_exporter": "python",
   "pygments_lexer": "ipython3",
   "version": "3.7.6"
  }
 },
 "nbformat": 4,
 "nbformat_minor": 4
}
