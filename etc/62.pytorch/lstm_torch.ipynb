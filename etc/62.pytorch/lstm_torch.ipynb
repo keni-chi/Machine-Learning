{
 "cells": [
  {
   "cell_type": "code",
   "execution_count": null,
   "metadata": {},
   "outputs": [],
   "source": [
    "# 参考: https://qiita.com/tsubauaaa/items/8411a22465811ec2ee11\n"
   ]
  },
  {
   "cell_type": "code",
   "execution_count": null,
   "metadata": {},
   "outputs": [],
   "source": [
    "import torch\n",
    "import torch.nn as nn\n",
    "import torch.optim as optim\n",
    "import matplotlib.pyplot as plt\n",
    "import pandas as pd\n",
    "import numpy as np\n",
    "%matplotlib inline\n"
   ]
  },
  {
   "cell_type": "code",
   "execution_count": null,
   "metadata": {},
   "outputs": [],
   "source": [
    "data1 = pd.read_csv('../../../dataset/lstm_torch/pcr_positive_daily.csv')\n",
    "data2 = pd.read_csv('../../../dataset/lstm_torch/pcr_tested_daily.csv')\n",
    "\n",
    "data = pd.merge(data1,data2)\n",
    "print(data.shape)\n",
    "print(data.tail(5))"
   ]
  },
  {
   "cell_type": "code",
   "execution_count": null,
   "metadata": {},
   "outputs": [],
   "source": [
    "len_data = data.shape[0]"
   ]
  },
  {
   "cell_type": "code",
   "execution_count": null,
   "metadata": {},
   "outputs": [],
   "source": [
    "covid19_data = data[['PCR 検査陽性者数(単日)', 'PCR 検査実施件数(単日)']]"
   ]
  },
  {
   "cell_type": "code",
   "execution_count": null,
   "metadata": {},
   "outputs": [],
   "source": [
    "fig, (axL, axR) = plt.subplots(ncols=2, figsize=(20,5))\n",
    "\n",
    "axL.plot(covid19_data['PCR 検査陽性者数(単日)'], linewidth=2)\n",
    "axL.set_title('Number of PCR Positive')\n",
    "axL.set_xlabel('2020/1/16-11/30')\n",
    "axL.set_ylabel('Number of people')\n",
    "axL.grid(True)\n",
    "\n",
    "axR.plot(covid19_data['PCR 検査実施件数(単日)'], linewidth=2)\n",
    "axR.set_title('Number of PCR Inspections')\n",
    "axR.set_xlabel('2020/1/16-11/30')\n",
    "axR.set_ylabel('Number of inspections')\n",
    "axR.grid(True)\n",
    "\n",
    "fig.show()\n"
   ]
  },
  {
   "cell_type": "code",
   "execution_count": null,
   "metadata": {},
   "outputs": [],
   "source": [
    "covid19_data = covid19_data.values.astype(float)\n",
    "covid19_data.shape"
   ]
  },
  {
   "cell_type": "code",
   "execution_count": null,
   "metadata": {},
   "outputs": [],
   "source": [
    "# 直近30日をテストデータにする\n",
    "test_data_size = 30\n",
    "\n",
    "train_data = covid19_data[:-test_data_size]\n",
    "test_data = covid19_data[-test_data_size:]\n"
   ]
  },
  {
   "cell_type": "code",
   "execution_count": null,
   "metadata": {},
   "outputs": [],
   "source": [
    "# データセットの正規化を行う。最小値0と最大値1の範囲で行う。\n",
    "from sklearn.preprocessing import MinMaxScaler\n",
    "\n",
    "scaler = MinMaxScaler(feature_range=(0, 1))\n",
    "train_data_normalized = scaler.fit_transform(train_data)\n",
    "\n",
    "# Tensor型に変換\n",
    "train_data_normalized = torch.FloatTensor(train_data_normalized)"
   ]
  },
  {
   "cell_type": "code",
   "execution_count": null,
   "metadata": {},
   "outputs": [],
   "source": [
    "# シーケンスに沿ったデータを作成する関数\n",
    "def make_sequence_data(input_data, num_sequence):\n",
    "    # シーケンスデータとラベルデータの器\n",
    "    data = []\n",
    "    # 全体のデータ数取得\n",
    "    num_data = len(input_data)\n",
    "    # 全体からシーケンス分引いた数までループする\n",
    "    for i in range(num_data - num_sequence):\n",
    "        # 1個ずらして、シーケンス分のデータを取得していく\n",
    "        seq_data = input_data[i:i+num_sequence]\n",
    "        # シーケンスの次の要素のデータ(ラベルデータとして1個目の陽性者数のみ)を取得していく\n",
    "        target_data = input_data[:,0][i+num_sequence:i+num_sequence+1]\n",
    "        # シーケンスデータとラベルデータをタプルとして取得していく\n",
    "        data.append((seq_data, target_data))\n",
    "\n",
    "    return data\n"
   ]
  },
  {
   "cell_type": "code",
   "execution_count": null,
   "metadata": {},
   "outputs": [],
   "source": [
    "# シーケンス長は1ヶ月分30日とする\n",
    "seq_length = 30\n",
    "# train_seq_data=最初のデータを1個ずらしてシーケンス分のデータ(時系列の学習データ群)、train_target=train_seq_dataの次のデータ(ラベルデータ)\n",
    "train_seq_data = make_sequence_data(train_data_normalized, seq_length)\n"
   ]
  },
  {
   "cell_type": "code",
   "execution_count": null,
   "metadata": {},
   "outputs": [],
   "source": [
    "class LSTM(nn.Module):\n",
    "    def __init__(self, input_size=2, hidden_layer_size=100, output_size=1):\n",
    "        super().__init__()\n",
    "        self.hidden_layer_size = hidden_layer_size\n",
    "\n",
    "        self.lstm = nn.LSTM(input_size=input_size, hidden_size=hidden_layer_size, batch_first=True)\n",
    "\n",
    "        self.linear = nn.Linear(in_features=hidden_layer_size, out_features=output_size)\n",
    "\n",
    "    def forward(self, x):\n",
    "        # LSTMのinputは(batch_size, seq_len, input_size)にする\n",
    "        # LSTMのoutputは(batch_size, seq_len, hidden_layer_size)となる\n",
    "        # hidden stateとcell stateにはNoneを渡して0ベクトルを渡す\n",
    "        lstm_out, (hn, cn) = self.lstm(x, None)\n",
    "        # Linearのinputは(N,∗,in_features)にする\n",
    "        # lstm_out(batch_size, seq_len, hidden_layer_size)のseq_len方向の最後の値をLinearに入力する\n",
    "        prediction = self.linear(lstm_out[:, -1, :])\n",
    "        return prediction"
   ]
  },
  {
   "cell_type": "code",
   "execution_count": null,
   "metadata": {},
   "outputs": [],
   "source": [
    "model = LSTM()\n"
   ]
  },
  {
   "cell_type": "code",
   "execution_count": null,
   "metadata": {},
   "outputs": [],
   "source": [
    "# 損失関数と最適化関数を定義\n",
    "criterion = nn.MSELoss()\n",
    "optimizer = optim.Adam(model.parameters(), lr=0.001)"
   ]
  },
  {
   "cell_type": "code",
   "execution_count": null,
   "metadata": {},
   "outputs": [],
   "source": [
    "epochs = 5\n",
    "losses = []\n",
    "for i in range(epochs):\n",
    "    for seq, labels in train_seq_data:\n",
    "        # seq, labelsのshapeは(seq_length, 特徴量)なのでLSTMに渡すために(batch, seq_length, 特徴量)にする。(batch=1)\n",
    "        seq, labels = torch.unsqueeze(seq, 0), torch.unsqueeze(labels, 0)\n",
    "        optimizer.zero_grad()\n",
    "        y_pred = model(seq)\n",
    "        single_loss = criterion(y_pred, labels)\n",
    "        single_loss.backward()\n",
    "        optimizer.step()\n",
    "    losses.append(single_loss.item())\n",
    "    print(f'epoch: {i}, loss : {single_loss.item()}')\n"
   ]
  },
  {
   "cell_type": "code",
   "execution_count": null,
   "metadata": {},
   "outputs": [],
   "source": [
    "plt.plot(losses)"
   ]
  },
  {
   "cell_type": "code",
   "execution_count": null,
   "metadata": {},
   "outputs": [],
   "source": [
    "# 予測する日数\n",
    "pred_days = 30\n",
    "# テストデータの正規化を行う。最小値0と最大値1の範囲で行ってTensor型に変換する。\n",
    "test_data_normalized = scaler.fit_transform(test_data)\n",
    "test_data_normalized = torch.FloatTensor(test_data_normalized)\n",
    "# 予測するためのデータの最初のseq_length分はtrain_dataを使う\n",
    "test_inputs = train_data_normalized[-seq_length:].tolist()\n"
   ]
  },
  {
   "cell_type": "code",
   "execution_count": null,
   "metadata": {},
   "outputs": [],
   "source": [
    "# モデルを評価モードとする\n",
    "model.eval()\n",
    "# 予測値を入れるリスト\n",
    "test_outputs = []\n",
    "for i in range(pred_days):\n",
    "    seq = torch.FloatTensor(test_inputs[-seq_length:])\n",
    "    seq = torch.unsqueeze(seq, 0)\n",
    "    with torch.no_grad():\n",
    "        test_inputs.append(test_data_normalized.tolist()[i])\n",
    "        test_outputs.append(model(seq).item())\n",
    "        "
   ]
  },
  {
   "cell_type": "code",
   "execution_count": null,
   "metadata": {},
   "outputs": [],
   "source": [
    "np_test_outputs = np.array(test_outputs).reshape(-1,1)\n",
    "# 列方向に同じ値を追加して(30, 3)にする\n",
    "np_test_outputs2 = np.hstack((np_test_outputs, np_test_outputs))\n",
    "actual_predictions = scaler.inverse_transform(np_test_outputs2)"
   ]
  },
  {
   "cell_type": "code",
   "execution_count": null,
   "metadata": {},
   "outputs": [],
   "source": [
    "x = np.arange(len_data-pred_days, len_data, 1)\n",
    "print(x)"
   ]
  },
  {
   "cell_type": "code",
   "execution_count": null,
   "metadata": {},
   "outputs": [],
   "source": [
    "fig_size = plt.rcParams['figure.figsize']\n",
    "fig_size[0] = 10\n",
    "fig_size[1] = 5\n",
    "plt.rcParams['figure.figsize'] = fig_size"
   ]
  },
  {
   "cell_type": "code",
   "execution_count": null,
   "metadata": {},
   "outputs": [],
   "source": [
    "plt.title('Number of PCR Positives')\n",
    "plt.ylabel('Number of people')\n",
    "plt.grid(True)\n",
    "plt.autoscale(axis='x', tight=True)\n",
    "plt.plot(data['PCR 検査陽性者数(単日)'], label='Ground Truth')\n",
    "plt.plot(x, actual_predictions[:,0], label='Prediction')\n",
    "plt.xlabel('2020/1/16 - 11/30')\n",
    "plt.legend()\n",
    "plt.show()"
   ]
  },
  {
   "cell_type": "code",
   "execution_count": null,
   "metadata": {},
   "outputs": [],
   "source": [
    "plt.title('Number of PCR Positives')\n",
    "plt.ylabel('Number of people')\n",
    "plt.grid(True)\n",
    "plt.autoscale(axis='x', tight=True)\n",
    "plt.plot(x, data['PCR 検査陽性者数(単日)'][-1*pred_days:], label='Ground Truth')\n",
    "plt.plot(x, actual_predictions[:,0], label='Prediction')\n",
    "plt.xlabel('2020/10/31 - 11/30')\n",
    "plt.legend()\n",
    "plt.show()"
   ]
  },
  {
   "cell_type": "code",
   "execution_count": null,
   "metadata": {},
   "outputs": [],
   "source": []
  }
 ],
 "metadata": {
  "kernelspec": {
   "display_name": "Python 3",
   "language": "python",
   "name": "python3"
  },
  "language_info": {
   "codemirror_mode": {
    "name": "ipython",
    "version": 3
   },
   "file_extension": ".py",
   "mimetype": "text/x-python",
   "name": "python",
   "nbconvert_exporter": "python",
   "pygments_lexer": "ipython3",
   "version": "3.7.6"
  }
 },
 "nbformat": 4,
 "nbformat_minor": 4
}
