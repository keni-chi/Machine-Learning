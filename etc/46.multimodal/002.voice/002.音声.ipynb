{
 "cells": [
  {
   "cell_type": "code",
   "execution_count": null,
   "id": "934185ee",
   "metadata": {},
   "outputs": [],
   "source": [
    "# https://self-development.info/%E5%9F%BA%E6%9C%AC%E5%91%A8%E6%B3%A2%E6%95%B0%E3%82%92librosa%E3%81%A7%E7%B0%A1%E5%8D%98%E3%81%AB%E6%B8%AC%E5%AE%9A%E3%81%99%E3%82%8B%E3%80%90python%E3%80%91/\n"
   ]
  },
  {
   "cell_type": "code",
   "execution_count": null,
   "id": "47570ecf",
   "metadata": {},
   "outputs": [],
   "source": [
    "import librosa\n",
    "import librosa.display\n",
    "import matplotlib.pyplot as plt\n",
    "import numpy as np\n",
    "import pandas as pd"
   ]
  },
  {
   "cell_type": "code",
   "execution_count": null,
   "id": "a262ae03",
   "metadata": {},
   "outputs": [],
   "source": [
    "# サンプルデータ"
   ]
  },
  {
   "cell_type": "code",
   "execution_count": null,
   "id": "cfbe5b42",
   "metadata": {},
   "outputs": [],
   "source": [
    "filename = '.\\\\ESC-50-master\\\\audio\\\\1-137-A-32.wav'\n",
    "y, sr = librosa.load(filename)\n",
    "f0, voiced_flag, voiced_probs = librosa.pyin(y, fmin=librosa.note_to_hz('C2'), fmax=librosa.note_to_hz('C7'))\n",
    "times = librosa.times_like(f0)\n",
    " \n",
    "D = librosa.amplitude_to_db(np.abs(librosa.stft(y)), ref=np.max)\n",
    "fig, ax = plt.subplots()\n",
    "img = librosa.display.specshow(D, x_axis='time', y_axis='log', ax=ax)\n",
    "ax.set(title='pYIN fundamental frequency estimation')\n",
    "fig.colorbar(img, ax=ax, format=\"%+2.f dB\")\n",
    "ax.plot(times, f0, label='f0', color='cyan', linewidth=3)\n",
    "ax.legend(loc='upper right')"
   ]
  },
  {
   "cell_type": "code",
   "execution_count": null,
   "id": "57896014",
   "metadata": {},
   "outputs": [],
   "source": [
    "df_f0 = pd.Series(f0)\n",
    "df_f0 = df_f0.dropna(how='all')\n",
    "print(df_f0.describe())"
   ]
  },
  {
   "cell_type": "code",
   "execution_count": null,
   "id": "52ebabea",
   "metadata": {},
   "outputs": [],
   "source": [
    "# iphoneデータ1\n",
    "\n",
    "# itunesでm4aをmp3へ変換\n",
    "# https://www.iphone-utility.com/topic/change-mp4-m4a-to-mp3-by-itunes.htm#:~:text=Step%201%3A%20iTunes%E3%82%92%E8%B5%B7%E5%8B%95,%E8%A8%AD%E5%AE%9A%E3%80%8D%E3%82%92%E3%82%AF%E3%83%AA%E3%83%83%E3%82%AF%E3%81%97%E3%81%BE%E3%81%99%E3%80%82&text=Step%202%3A%20%E3%80%8C%E3%82%A4%E3%83%B3%E3%83%9D%E3%83%BC%E3%83%88%E6%96%B9%E6%B3%95%E3%80%8D,OK%E3%80%8D%E3%82%92%E3%82%AF%E3%83%AA%E3%83%83%E3%82%AF%E3%81%97%E3%81%BE%E3%81%99%E3%80%82\n"
   ]
  },
  {
   "cell_type": "code",
   "execution_count": null,
   "id": "a0a8d31e",
   "metadata": {},
   "outputs": [],
   "source": [
    "# !pip install pydub"
   ]
  },
  {
   "cell_type": "code",
   "execution_count": null,
   "id": "74e20e67",
   "metadata": {
    "scrolled": true
   },
   "outputs": [],
   "source": [
    "# import pydub\n",
    "# sound = pydub.AudioSegment.from_mp3(\"新規録音.mp3\")\n",
    "# sound.export(\"新規録音.wav\", format=\"wav\")"
   ]
  },
  {
   "cell_type": "code",
   "execution_count": null,
   "id": "d36f1b2d",
   "metadata": {},
   "outputs": [],
   "source": []
  },
  {
   "cell_type": "code",
   "execution_count": null,
   "id": "9793713a",
   "metadata": {},
   "outputs": [],
   "source": [
    "filename = '.\\\\iphone\\\\新規録音.wav'\n",
    "y, sr = librosa.load(filename)\n",
    "f0, voiced_flag, voiced_probs = librosa.pyin(y, fmin=librosa.note_to_hz('C2'), fmax=librosa.note_to_hz('C7'))\n",
    "times = librosa.times_like(f0)\n",
    " \n",
    "D = librosa.amplitude_to_db(np.abs(librosa.stft(y)), ref=np.max)\n",
    "fig, ax = plt.subplots()\n",
    "img = librosa.display.specshow(D, x_axis='time', y_axis='log', ax=ax)\n",
    "ax.set(title='pYIN fundamental frequency estimation')\n",
    "fig.colorbar(img, ax=ax, format=\"%+2.f dB\")\n",
    "ax.plot(times, f0, label='f0', color='cyan', linewidth=3)\n",
    "ax.legend(loc='upper right')"
   ]
  },
  {
   "cell_type": "code",
   "execution_count": null,
   "id": "ec2baac8",
   "metadata": {},
   "outputs": [],
   "source": [
    "df_f0 = pd.Series(f0)\n",
    "df_f0 = df_f0.dropna(how='all')\n",
    "print(df_f0.describe())\n"
   ]
  },
  {
   "cell_type": "code",
   "execution_count": null,
   "id": "92822c70",
   "metadata": {},
   "outputs": [],
   "source": []
  },
  {
   "cell_type": "code",
   "execution_count": null,
   "id": "c8a70e7e",
   "metadata": {},
   "outputs": [],
   "source": [
    "filename = '.\\\\iphone\\\\新規録音 #2.wav'\n",
    "y, sr = librosa.load(filename)\n",
    "f0, voiced_flag, voiced_probs = librosa.pyin(y, fmin=librosa.note_to_hz('C2'), fmax=librosa.note_to_hz('C7'))\n",
    "times = librosa.times_like(f0)\n",
    " \n",
    "D = librosa.amplitude_to_db(np.abs(librosa.stft(y)), ref=np.max)\n",
    "fig, ax = plt.subplots()\n",
    "img = librosa.display.specshow(D, x_axis='time', y_axis='log', ax=ax)\n",
    "ax.set(title='pYIN fundamental frequency estimation')\n",
    "fig.colorbar(img, ax=ax, format=\"%+2.f dB\")\n",
    "ax.plot(times, f0, label='f0', color='cyan', linewidth=3)\n",
    "ax.legend(loc='upper right')"
   ]
  },
  {
   "cell_type": "code",
   "execution_count": null,
   "id": "f052f9a0",
   "metadata": {},
   "outputs": [],
   "source": [
    "df_f0 = pd.Series(f0)\n",
    "df_f0 = df_f0.dropna(how='all')\n",
    "print(df_f0.describe())\n"
   ]
  },
  {
   "cell_type": "code",
   "execution_count": null,
   "id": "4c876b9f",
   "metadata": {},
   "outputs": [],
   "source": []
  },
  {
   "cell_type": "code",
   "execution_count": null,
   "id": "7aa20515",
   "metadata": {},
   "outputs": [],
   "source": []
  }
 ],
 "metadata": {
  "kernelspec": {
   "display_name": "Python 3",
   "language": "python",
   "name": "python3"
  },
  "language_info": {
   "codemirror_mode": {
    "name": "ipython",
    "version": 3
   },
   "file_extension": ".py",
   "mimetype": "text/x-python",
   "name": "python",
   "nbconvert_exporter": "python",
   "pygments_lexer": "ipython3",
   "version": "3.6.8"
  }
 },
 "nbformat": 4,
 "nbformat_minor": 5
}
